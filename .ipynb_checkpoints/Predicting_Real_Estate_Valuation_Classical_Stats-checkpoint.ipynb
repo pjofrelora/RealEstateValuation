{
 "cells": [
  {
   "cell_type": "markdown",
   "metadata": {},
   "source": [
    "# Modeling King County Housing Prices Using MLR Supported with Cross-Validated RFE.\n",
    "### Table of Contents\n",
    "1. [Introduction](#1) <br>\n",
    "2. [Importing and Cleaning Data](#2) <br>\n",
    "3. [Exploring and Modifying Data](#3) <br>\n",
    "4. [Modeling Data](#4) <br>\n",
    "5. [Interpreting Data](#5) <br>\n",
    "6. [Conclusion](#6) <br>\n",
    "7. [Future Work](#7)"
   ]
  },
  {
   "cell_type": "markdown",
   "metadata": {},
   "source": [
    "<a id=\"1\"></a>\n",
    "## 1. Introduction\n",
    "The OSEMN framework was used to evaluate the King County Housing Data in order to develop a model that could predict price. Obtaining the data was simple since a comma separated table existed. The data was scrubbed after it was loaded to ensure that it was cast into the correct datatypes. The data was also evaluated for errant data entry, and some transformations were performed in order to make the dataset more useful.<br><br>\n",
    "Exploratory data analysis was then performed in order to develop a working mental model of the data. This analysis was broken up into three distinct parts that were driven by questions and the results of previous analysis. The exploratory data analysis informed data transformations that were necessary to improve the quality of the resulting model. At the end of EDA, the data was cleaned once more and partially prepped for modeling. <br><br>\n",
    "Modeling the data was an iterative process. An initial full-feature model was fit in order to set expectations for subsequent models. Recursive Feature Elimination with Cross Validation was then employed to reduce the dimensionality of the data. The resulting model was evaluated for its statistical significance and the quality of the meaning underlying the model. A final model was built from the information gleaned from the RFE model.<br><br>\n",
    "An interpretation of the model makes it clear that, as the old adage goes, location is the most important predictor of price. Second to location are features that describe the size of the house and a \"peer envy\" factor that accounts for the size of the house relative to its nearest peers. The remaining important factors can be roughly categorized as conditions that alter the price of the house, such as whether it is a waterfront property, or whether the house has been viewed before."
   ]
  },
  {
   "cell_type": "markdown",
   "metadata": {},
   "source": [
    "<a id=\"2\"></a>\n",
    "## 2. Importing and cleaning data (Obtain and Scrub)\n",
    "### 2.1 Importing Data"
   ]
  },
  {
   "cell_type": "code",
   "execution_count": 1,
   "metadata": {},
   "outputs": [
    {
     "name": "stdout",
     "output_type": "stream",
     "text": [
      "<class 'pandas.core.frame.DataFrame'>\n",
      "Int64Index: 21597 entries, 7129300520 to 1523300157\n",
      "Data columns (total 20 columns):\n",
      "Date             21597 non-null object\n",
      "Price            21597 non-null float64\n",
      "Bedrooms         21597 non-null int64\n",
      "Bathrooms        21597 non-null float64\n",
      "Sqft_Living      21597 non-null int64\n",
      "Sqft_Lot         21597 non-null int64\n",
      "Floors           21597 non-null float64\n",
      "Waterfront       19221 non-null float64\n",
      "View             21534 non-null float64\n",
      "Condition        21597 non-null int64\n",
      "Grade            21597 non-null int64\n",
      "Sqft_Above       21597 non-null int64\n",
      "Sqft_Basement    21597 non-null object\n",
      "Yr_Built         21597 non-null int64\n",
      "Yr_Renovated     17755 non-null float64\n",
      "Zipcode          21597 non-null int64\n",
      "Lat              21597 non-null float64\n",
      "Long             21597 non-null float64\n",
      "Sqft_Living15    21597 non-null int64\n",
      "Sqft_Lot15       21597 non-null int64\n",
      "dtypes: float64(8), int64(10), object(2)\n",
      "memory usage: 3.5+ MB\n"
     ]
    }
   ],
   "source": [
    "import pandas as pd\n",
    "import numpy as np\n",
    "import warnings\n",
    "warnings.simplefilter('ignore')\n",
    "\n",
    "# Import the data\n",
    "kc = pd.read_csv('kc_house_data.csv', index_col = 'id')\n",
    "kc.columns = [col_name.title() for col_name in list(kc.columns)]\n",
    "kc.info()"
   ]
  },
  {
   "cell_type": "code",
   "execution_count": 2,
   "metadata": {},
   "outputs": [
    {
     "data": {
      "text/html": [
       "<div>\n",
       "<style scoped>\n",
       "    .dataframe tbody tr th:only-of-type {\n",
       "        vertical-align: middle;\n",
       "    }\n",
       "\n",
       "    .dataframe tbody tr th {\n",
       "        vertical-align: top;\n",
       "    }\n",
       "\n",
       "    .dataframe thead th {\n",
       "        text-align: right;\n",
       "    }\n",
       "</style>\n",
       "<table border=\"1\" class=\"dataframe\">\n",
       "  <thead>\n",
       "    <tr style=\"text-align: right;\">\n",
       "      <th></th>\n",
       "      <th>Waterfront</th>\n",
       "      <th>Condition</th>\n",
       "      <th>View</th>\n",
       "      <th>Floors</th>\n",
       "      <th>Grade</th>\n",
       "      <th>Bedrooms</th>\n",
       "      <th>Bathrooms</th>\n",
       "      <th>Zipcode</th>\n",
       "      <th>Yr_Renovated</th>\n",
       "      <th>Yr_Built</th>\n",
       "      <th>Sqft_Basement</th>\n",
       "      <th>Date</th>\n",
       "      <th>Long</th>\n",
       "      <th>Sqft_Living15</th>\n",
       "      <th>Sqft_Above</th>\n",
       "      <th>Sqft_Living</th>\n",
       "      <th>Price</th>\n",
       "      <th>Lat</th>\n",
       "      <th>Sqft_Lot15</th>\n",
       "      <th>Sqft_Lot</th>\n",
       "    </tr>\n",
       "  </thead>\n",
       "  <tbody>\n",
       "    <tr>\n",
       "      <th>Counts</th>\n",
       "      <td>2</td>\n",
       "      <td>5</td>\n",
       "      <td>5</td>\n",
       "      <td>6</td>\n",
       "      <td>11</td>\n",
       "      <td>12</td>\n",
       "      <td>29</td>\n",
       "      <td>70</td>\n",
       "      <td>70</td>\n",
       "      <td>116</td>\n",
       "      <td>304</td>\n",
       "      <td>372</td>\n",
       "      <td>751</td>\n",
       "      <td>777</td>\n",
       "      <td>942</td>\n",
       "      <td>1034</td>\n",
       "      <td>3622</td>\n",
       "      <td>5033</td>\n",
       "      <td>8682</td>\n",
       "      <td>9776</td>\n",
       "    </tr>\n",
       "  </tbody>\n",
       "</table>\n",
       "</div>"
      ],
      "text/plain": [
       "        Waterfront  Condition  View  Floors  Grade  Bedrooms  Bathrooms  \\\n",
       "Counts           2          5     5       6     11        12         29   \n",
       "\n",
       "        Zipcode  Yr_Renovated  Yr_Built  Sqft_Basement  Date  Long  \\\n",
       "Counts       70            70       116            304   372   751   \n",
       "\n",
       "        Sqft_Living15  Sqft_Above  Sqft_Living  Price   Lat  Sqft_Lot15  \\\n",
       "Counts            777         942         1034   3622  5033        8682   \n",
       "\n",
       "        Sqft_Lot  \n",
       "Counts      9776  "
      ]
     },
     "execution_count": 2,
     "metadata": {},
     "output_type": "execute_result"
    }
   ],
   "source": [
    "pd.DataFrame(\n",
    "    data = kc.nunique().sort_values(), \n",
    "    columns = ['Counts']\n",
    "    ).transpose()"
   ]
  },
  {
   "cell_type": "code",
   "execution_count": 3,
   "metadata": {},
   "outputs": [
    {
     "data": {
      "text/html": [
       "<div>\n",
       "<style scoped>\n",
       "    .dataframe tbody tr th:only-of-type {\n",
       "        vertical-align: middle;\n",
       "    }\n",
       "\n",
       "    .dataframe tbody tr th {\n",
       "        vertical-align: top;\n",
       "    }\n",
       "\n",
       "    .dataframe thead th {\n",
       "        text-align: right;\n",
       "    }\n",
       "</style>\n",
       "<table border=\"1\" class=\"dataframe\">\n",
       "  <thead>\n",
       "    <tr style=\"text-align: right;\">\n",
       "      <th></th>\n",
       "      <th>Price</th>\n",
       "      <th>Bedrooms</th>\n",
       "      <th>Bathrooms</th>\n",
       "      <th>Sqft_Living</th>\n",
       "      <th>Sqft_Lot</th>\n",
       "      <th>Floors</th>\n",
       "      <th>Waterfront</th>\n",
       "      <th>View</th>\n",
       "      <th>Condition</th>\n",
       "      <th>Grade</th>\n",
       "      <th>Sqft_Above</th>\n",
       "      <th>Yr_Built</th>\n",
       "      <th>Yr_Renovated</th>\n",
       "      <th>Zipcode</th>\n",
       "      <th>Lat</th>\n",
       "      <th>Long</th>\n",
       "      <th>Sqft_Living15</th>\n",
       "      <th>Sqft_Lot15</th>\n",
       "    </tr>\n",
       "  </thead>\n",
       "  <tbody>\n",
       "    <tr>\n",
       "      <th>count</th>\n",
       "      <td>2.159700e+04</td>\n",
       "      <td>21597.000000</td>\n",
       "      <td>21597.000000</td>\n",
       "      <td>21597.000000</td>\n",
       "      <td>2.159700e+04</td>\n",
       "      <td>21597.000000</td>\n",
       "      <td>19221.000000</td>\n",
       "      <td>21534.000000</td>\n",
       "      <td>21597.000000</td>\n",
       "      <td>21597.000000</td>\n",
       "      <td>21597.000000</td>\n",
       "      <td>21597.000000</td>\n",
       "      <td>17755.000000</td>\n",
       "      <td>21597.000000</td>\n",
       "      <td>21597.000000</td>\n",
       "      <td>21597.000000</td>\n",
       "      <td>21597.000000</td>\n",
       "      <td>21597.000000</td>\n",
       "    </tr>\n",
       "    <tr>\n",
       "      <th>mean</th>\n",
       "      <td>5.402966e+05</td>\n",
       "      <td>3.373200</td>\n",
       "      <td>2.115826</td>\n",
       "      <td>2080.321850</td>\n",
       "      <td>1.509941e+04</td>\n",
       "      <td>1.494096</td>\n",
       "      <td>0.007596</td>\n",
       "      <td>0.233863</td>\n",
       "      <td>3.409825</td>\n",
       "      <td>7.657915</td>\n",
       "      <td>1788.596842</td>\n",
       "      <td>1970.999676</td>\n",
       "      <td>83.636778</td>\n",
       "      <td>98077.951845</td>\n",
       "      <td>47.560093</td>\n",
       "      <td>-122.213982</td>\n",
       "      <td>1986.620318</td>\n",
       "      <td>12758.283512</td>\n",
       "    </tr>\n",
       "    <tr>\n",
       "      <th>std</th>\n",
       "      <td>3.673681e+05</td>\n",
       "      <td>0.926299</td>\n",
       "      <td>0.768984</td>\n",
       "      <td>918.106125</td>\n",
       "      <td>4.141264e+04</td>\n",
       "      <td>0.539683</td>\n",
       "      <td>0.086825</td>\n",
       "      <td>0.765686</td>\n",
       "      <td>0.650546</td>\n",
       "      <td>1.173200</td>\n",
       "      <td>827.759761</td>\n",
       "      <td>29.375234</td>\n",
       "      <td>399.946414</td>\n",
       "      <td>53.513072</td>\n",
       "      <td>0.138552</td>\n",
       "      <td>0.140724</td>\n",
       "      <td>685.230472</td>\n",
       "      <td>27274.441950</td>\n",
       "    </tr>\n",
       "    <tr>\n",
       "      <th>min</th>\n",
       "      <td>7.800000e+04</td>\n",
       "      <td>1.000000</td>\n",
       "      <td>0.500000</td>\n",
       "      <td>370.000000</td>\n",
       "      <td>5.200000e+02</td>\n",
       "      <td>1.000000</td>\n",
       "      <td>0.000000</td>\n",
       "      <td>0.000000</td>\n",
       "      <td>1.000000</td>\n",
       "      <td>3.000000</td>\n",
       "      <td>370.000000</td>\n",
       "      <td>1900.000000</td>\n",
       "      <td>0.000000</td>\n",
       "      <td>98001.000000</td>\n",
       "      <td>47.155900</td>\n",
       "      <td>-122.519000</td>\n",
       "      <td>399.000000</td>\n",
       "      <td>651.000000</td>\n",
       "    </tr>\n",
       "    <tr>\n",
       "      <th>25%</th>\n",
       "      <td>3.220000e+05</td>\n",
       "      <td>3.000000</td>\n",
       "      <td>1.750000</td>\n",
       "      <td>1430.000000</td>\n",
       "      <td>5.040000e+03</td>\n",
       "      <td>1.000000</td>\n",
       "      <td>0.000000</td>\n",
       "      <td>0.000000</td>\n",
       "      <td>3.000000</td>\n",
       "      <td>7.000000</td>\n",
       "      <td>1190.000000</td>\n",
       "      <td>1951.000000</td>\n",
       "      <td>0.000000</td>\n",
       "      <td>98033.000000</td>\n",
       "      <td>47.471100</td>\n",
       "      <td>-122.328000</td>\n",
       "      <td>1490.000000</td>\n",
       "      <td>5100.000000</td>\n",
       "    </tr>\n",
       "    <tr>\n",
       "      <th>50%</th>\n",
       "      <td>4.500000e+05</td>\n",
       "      <td>3.000000</td>\n",
       "      <td>2.250000</td>\n",
       "      <td>1910.000000</td>\n",
       "      <td>7.618000e+03</td>\n",
       "      <td>1.500000</td>\n",
       "      <td>0.000000</td>\n",
       "      <td>0.000000</td>\n",
       "      <td>3.000000</td>\n",
       "      <td>7.000000</td>\n",
       "      <td>1560.000000</td>\n",
       "      <td>1975.000000</td>\n",
       "      <td>0.000000</td>\n",
       "      <td>98065.000000</td>\n",
       "      <td>47.571800</td>\n",
       "      <td>-122.231000</td>\n",
       "      <td>1840.000000</td>\n",
       "      <td>7620.000000</td>\n",
       "    </tr>\n",
       "    <tr>\n",
       "      <th>75%</th>\n",
       "      <td>6.450000e+05</td>\n",
       "      <td>4.000000</td>\n",
       "      <td>2.500000</td>\n",
       "      <td>2550.000000</td>\n",
       "      <td>1.068500e+04</td>\n",
       "      <td>2.000000</td>\n",
       "      <td>0.000000</td>\n",
       "      <td>0.000000</td>\n",
       "      <td>4.000000</td>\n",
       "      <td>8.000000</td>\n",
       "      <td>2210.000000</td>\n",
       "      <td>1997.000000</td>\n",
       "      <td>0.000000</td>\n",
       "      <td>98118.000000</td>\n",
       "      <td>47.678000</td>\n",
       "      <td>-122.125000</td>\n",
       "      <td>2360.000000</td>\n",
       "      <td>10083.000000</td>\n",
       "    </tr>\n",
       "    <tr>\n",
       "      <th>max</th>\n",
       "      <td>7.700000e+06</td>\n",
       "      <td>33.000000</td>\n",
       "      <td>8.000000</td>\n",
       "      <td>13540.000000</td>\n",
       "      <td>1.651359e+06</td>\n",
       "      <td>3.500000</td>\n",
       "      <td>1.000000</td>\n",
       "      <td>4.000000</td>\n",
       "      <td>5.000000</td>\n",
       "      <td>13.000000</td>\n",
       "      <td>9410.000000</td>\n",
       "      <td>2015.000000</td>\n",
       "      <td>2015.000000</td>\n",
       "      <td>98199.000000</td>\n",
       "      <td>47.777600</td>\n",
       "      <td>-121.315000</td>\n",
       "      <td>6210.000000</td>\n",
       "      <td>871200.000000</td>\n",
       "    </tr>\n",
       "  </tbody>\n",
       "</table>\n",
       "</div>"
      ],
      "text/plain": [
       "              Price      Bedrooms     Bathrooms   Sqft_Living      Sqft_Lot  \\\n",
       "count  2.159700e+04  21597.000000  21597.000000  21597.000000  2.159700e+04   \n",
       "mean   5.402966e+05      3.373200      2.115826   2080.321850  1.509941e+04   \n",
       "std    3.673681e+05      0.926299      0.768984    918.106125  4.141264e+04   \n",
       "min    7.800000e+04      1.000000      0.500000    370.000000  5.200000e+02   \n",
       "25%    3.220000e+05      3.000000      1.750000   1430.000000  5.040000e+03   \n",
       "50%    4.500000e+05      3.000000      2.250000   1910.000000  7.618000e+03   \n",
       "75%    6.450000e+05      4.000000      2.500000   2550.000000  1.068500e+04   \n",
       "max    7.700000e+06     33.000000      8.000000  13540.000000  1.651359e+06   \n",
       "\n",
       "             Floors    Waterfront          View     Condition         Grade  \\\n",
       "count  21597.000000  19221.000000  21534.000000  21597.000000  21597.000000   \n",
       "mean       1.494096      0.007596      0.233863      3.409825      7.657915   \n",
       "std        0.539683      0.086825      0.765686      0.650546      1.173200   \n",
       "min        1.000000      0.000000      0.000000      1.000000      3.000000   \n",
       "25%        1.000000      0.000000      0.000000      3.000000      7.000000   \n",
       "50%        1.500000      0.000000      0.000000      3.000000      7.000000   \n",
       "75%        2.000000      0.000000      0.000000      4.000000      8.000000   \n",
       "max        3.500000      1.000000      4.000000      5.000000     13.000000   \n",
       "\n",
       "         Sqft_Above      Yr_Built  Yr_Renovated       Zipcode           Lat  \\\n",
       "count  21597.000000  21597.000000  17755.000000  21597.000000  21597.000000   \n",
       "mean    1788.596842   1970.999676     83.636778  98077.951845     47.560093   \n",
       "std      827.759761     29.375234    399.946414     53.513072      0.138552   \n",
       "min      370.000000   1900.000000      0.000000  98001.000000     47.155900   \n",
       "25%     1190.000000   1951.000000      0.000000  98033.000000     47.471100   \n",
       "50%     1560.000000   1975.000000      0.000000  98065.000000     47.571800   \n",
       "75%     2210.000000   1997.000000      0.000000  98118.000000     47.678000   \n",
       "max     9410.000000   2015.000000   2015.000000  98199.000000     47.777600   \n",
       "\n",
       "               Long  Sqft_Living15     Sqft_Lot15  \n",
       "count  21597.000000   21597.000000   21597.000000  \n",
       "mean    -122.213982    1986.620318   12758.283512  \n",
       "std        0.140724     685.230472   27274.441950  \n",
       "min     -122.519000     399.000000     651.000000  \n",
       "25%     -122.328000    1490.000000    5100.000000  \n",
       "50%     -122.231000    1840.000000    7620.000000  \n",
       "75%     -122.125000    2360.000000   10083.000000  \n",
       "max     -121.315000    6210.000000  871200.000000  "
      ]
     },
     "execution_count": 3,
     "metadata": {},
     "output_type": "execute_result"
    }
   ],
   "source": [
    "kc.describe()"
   ]
  },
  {
   "cell_type": "markdown",
   "metadata": {},
   "source": [
    "### 2.2 Define problems\n",
    "1.  Date, View, and Sqft_basement are incorrect types.\n",
    "2.  Waterfront and zipcode likely need to be converted to categorical.\n",
    "3.  Condition and Grade might need to be converted to categorical, unless the numbers are a monotonic scale (scale of 1-5 with 5 being the \"best\").\n",
    "4.  Investigate Yr_Renovated.\n",
    "5.  Investigate Sqft_Above, Sqft_Living, and Sqft_basement\n",
    "6.  Deciding what to do with the date.\n",
    "7.  Deciding what to do with the lat and long values.\n",
    "8.  Determine if the house with 33 bedrooms was an entry error.\n",
    "\n",
    "The reasoning and plan of action for each of these problems is described below.\n",
    "\n",
    "1. Data could be dropped from View, and it should also be converted to a binary category since the description is \"has been viewed\", and not \"the number of times the propery has been viewed\".\n",
    "\n",
    "2. Waterfront and zipcode may not need to be converted to categorical and could be tossed out if the distributions of the groups is equal. If the distributions are not equal then I'll make a decision about what to do.\n",
    "\n",
    "3. Condition and Grade likely will not need to be converted to categorical, though we must assume that they are monotonic scales.\n",
    "\n",
    "4. There is a surprisingly low mean and a very high std for Yr_Renovated, which may indicate that the data may not accurately represent what's going on. It may be the case that very few homes have renovations on file. If this is the case, then Yr_renovated should be changed to Renovated, which is a binary category indicating whether or not a renovation is on file.\n",
    "\n",
    "5. The metadata for the dataset gives an indication that Sqft_Above and Sqft_Basement may both be accounted for in Sqft_Living. I'll investigate this and remove data if necessary.\n",
    "\n",
    "6. The date will likely have a large impact on predicting the final sale price. I'll investigate to see if there is an impact, and then decide what to do.\n",
    "\n",
    "7. Changing Lat and Long data into rectangular sectors can approximate neighborhoods that can then be used as categories. It would be best to look at a map of king county to see if there are distinct neighborhoods that could be drawn instead.\n",
    "\n",
    "8. There is a house with 33 bedrooms in the dataset. I will drop this datum unless the number of bedrooms is corroborated by the size of the house.\n",
    "\n",
    "\n",
    "### 2.3 Resolving problems\n",
    "#### 2.3.1. Change Date and Sqft_Basement to correct types. Drop Data as necessary. Make a separate Basement as a category."
   ]
  },
  {
   "cell_type": "code",
   "execution_count": 4,
   "metadata": {},
   "outputs": [],
   "source": [
    "kc.Sqft_Basement.replace(to_replace = '?', \n",
    "                         value = np.nan, \n",
    "                         inplace = True)\n",
    "kc.Sqft_Basement = kc.Sqft_Basement.apply(pd.to_numeric)\n",
    "kc = kc[kc.Sqft_Basement.notnull()]\n",
    "kc = kc[kc.View.notnull()]\n",
    "kc.View = kc.View.where(kc.View <= 0, other = 1)\n",
    "kc['View'] = (kc.View > 0).astype('category')"
   ]
  },
  {
   "cell_type": "code",
   "execution_count": 5,
   "metadata": {},
   "outputs": [],
   "source": [
    "kc['Basement'] = (kc.Sqft_Basement>0).astype('category')"
   ]
  },
  {
   "cell_type": "code",
   "execution_count": 6,
   "metadata": {},
   "outputs": [],
   "source": [
    "kc.Date = pd.to_datetime(kc.Date)"
   ]
  },
  {
   "cell_type": "markdown",
   "metadata": {},
   "source": [
    "#### 2.3.2 Change Waterfront and zipcode to categories if appropriate"
   ]
  },
  {
   "cell_type": "code",
   "execution_count": 7,
   "metadata": {},
   "outputs": [
    {
     "data": {
      "text/plain": [
       "dict_keys([0.0, 1.0])"
      ]
     },
     "execution_count": 7,
     "metadata": {},
     "output_type": "execute_result"
    }
   ],
   "source": [
    "waterfront_grouping = kc.groupby(by = 'Waterfront')\n",
    "waterfront_grouping.groups.keys()"
   ]
  },
  {
   "cell_type": "code",
   "execution_count": 8,
   "metadata": {},
   "outputs": [],
   "source": [
    "import seaborn as sns\n",
    "import matplotlib.pyplot as plt"
   ]
  },
  {
   "cell_type": "code",
   "execution_count": 9,
   "metadata": {},
   "outputs": [
    {
     "data": {
      "image/png": "[encoded data removed]",
      "text/plain": [
       "<Figure size 432x288 with 2 Axes>"
      ]
     },
     "metadata": {},
     "output_type": "display_data"
    }
   ],
   "source": [
    "sns.set_style(style = 'dark')\n",
    "ax1 = waterfront_grouping.get_group(0).Price.plot.hist(density = True)\n",
    "waterfront_grouping.get_group(1).Price.plot.hist(density = True,\n",
    "                                            secondary_y = True,\n",
    "                                            alpha = 0.3,\n",
    "                                            ax = ax1)\n",
    "ax1.set_xlabel('Price')\n",
    "plt.show()"
   ]
  },
  {
   "cell_type": "markdown",
   "metadata": {},
   "source": [
    "The distributions are clearly different in shape, so waterfront will be converted to a category."
   ]
  },
  {
   "cell_type": "code",
   "execution_count": 10,
   "metadata": {},
   "outputs": [],
   "source": [
    "kc.Waterfront.fillna(0.0,inplace = True) # Assume that a null listing means the house is not waterfront\n",
    "kc.Waterfront = (kc.Waterfront>0).astype('category')"
   ]
  },
  {
   "cell_type": "code",
   "execution_count": 11,
   "metadata": {},
   "outputs": [
    {
     "data": {
      "image/png": "[encoded data removed]",
      "text/plain": [
       "<Figure size 216x360 with 1 Axes>"
      ]
     },
     "metadata": {},
     "output_type": "display_data"
    }
   ],
   "source": [
    "kc.groupby('Zipcode').Price.median().plot.box(figsize = (3,5));"
   ]
  },
  {
   "cell_type": "markdown",
   "metadata": {},
   "source": [
    "The medians of the groups are too spread out to believe that zipcode might not have a significant impact on the final price of the house. It will be converted to a category."
   ]
  },
  {
   "cell_type": "code",
   "execution_count": 12,
   "metadata": {},
   "outputs": [],
   "source": [
    "kc.Zipcode = kc.Zipcode.astype('category')"
   ]
  },
  {
   "cell_type": "markdown",
   "metadata": {},
   "source": [
    "#### 2.3.3 Changing Grade and Condition to categories."
   ]
  },
  {
   "cell_type": "code",
   "execution_count": 13,
   "metadata": {},
   "outputs": [
    {
     "data": {
      "image/png": "[encoded data removed]",
      "text/plain": [
       "<Figure size 864x288 with 2 Axes>"
      ]
     },
     "metadata": {},
     "output_type": "display_data"
    }
   ],
   "source": [
    "fig, (ax1, ax2) = plt.subplots(nrows = 1, ncols = 2, figsize = (12,4))\n",
    "kc.groupby('Grade').Price.median().plot(ax = ax1, title = 'Price by Grade');\n",
    "kc.groupby('Condition').Price.median().plot(ax = ax2, title = 'Price by Condition')\n",
    "ax1.set_ylabel('Price')\n",
    "ax2.set_ylabel('Price')\n",
    "plt.show()"
   ]
  },
  {
   "cell_type": "markdown",
   "metadata": {},
   "source": [
    "Price as a function of Condition is not easily approximated by a simple function, though this is odd. I'll investigate price by condition more closely to see if there's a reason behind the deviation."
   ]
  },
  {
   "cell_type": "code",
   "execution_count": 14,
   "metadata": {},
   "outputs": [
    {
     "data": {
      "text/html": [
       "<div>\n",
       "<style scoped>\n",
       "    .dataframe tbody tr th:only-of-type {\n",
       "        vertical-align: middle;\n",
       "    }\n",
       "\n",
       "    .dataframe tbody tr th {\n",
       "        vertical-align: top;\n",
       "    }\n",
       "\n",
       "    .dataframe thead th {\n",
       "        text-align: right;\n",
       "    }\n",
       "</style>\n",
       "<table border=\"1\" class=\"dataframe\">\n",
       "  <thead>\n",
       "    <tr style=\"text-align: right;\">\n",
       "      <th></th>\n",
       "      <th>count</th>\n",
       "      <th>max</th>\n",
       "      <th>min</th>\n",
       "      <th>mean</th>\n",
       "      <th>median</th>\n",
       "    </tr>\n",
       "    <tr>\n",
       "      <th>Condition</th>\n",
       "      <th></th>\n",
       "      <th></th>\n",
       "      <th></th>\n",
       "      <th></th>\n",
       "      <th></th>\n",
       "    </tr>\n",
       "  </thead>\n",
       "  <tbody>\n",
       "    <tr>\n",
       "      <th>1</th>\n",
       "      <td>28</td>\n",
       "      <td>1500000.0</td>\n",
       "      <td>78000.0</td>\n",
       "      <td>337801.785714</td>\n",
       "      <td>262500.0</td>\n",
       "    </tr>\n",
       "    <tr>\n",
       "      <th>2</th>\n",
       "      <td>166</td>\n",
       "      <td>2560000.0</td>\n",
       "      <td>80000.0</td>\n",
       "      <td>324541.801205</td>\n",
       "      <td>277000.0</td>\n",
       "    </tr>\n",
       "    <tr>\n",
       "      <th>3</th>\n",
       "      <td>13688</td>\n",
       "      <td>7060000.0</td>\n",
       "      <td>82000.0</td>\n",
       "      <td>542820.430523</td>\n",
       "      <td>450650.0</td>\n",
       "    </tr>\n",
       "    <tr>\n",
       "      <th>4</th>\n",
       "      <td>5538</td>\n",
       "      <td>7700000.0</td>\n",
       "      <td>89000.0</td>\n",
       "      <td>519579.568978</td>\n",
       "      <td>439972.5</td>\n",
       "    </tr>\n",
       "    <tr>\n",
       "      <th>5</th>\n",
       "      <td>1662</td>\n",
       "      <td>3650000.0</td>\n",
       "      <td>110000.0</td>\n",
       "      <td>612872.954272</td>\n",
       "      <td>525444.0</td>\n",
       "    </tr>\n",
       "  </tbody>\n",
       "</table>\n",
       "</div>"
      ],
      "text/plain": [
       "           count        max       min           mean    median\n",
       "Condition                                                     \n",
       "1             28  1500000.0   78000.0  337801.785714  262500.0\n",
       "2            166  2560000.0   80000.0  324541.801205  277000.0\n",
       "3          13688  7060000.0   82000.0  542820.430523  450650.0\n",
       "4           5538  7700000.0   89000.0  519579.568978  439972.5\n",
       "5           1662  3650000.0  110000.0  612872.954272  525444.0"
      ]
     },
     "execution_count": 14,
     "metadata": {},
     "output_type": "execute_result"
    }
   ],
   "source": [
    "kc.groupby('Condition').Price.agg(['count','max','min','mean','median'])"
   ]
  },
  {
   "cell_type": "markdown",
   "metadata": {},
   "source": [
    "The min and max follow a monotonically increasing trend. The scale is most likely meant to be monotonic, so I'll treat it as such and leave Condition as a numerical feature. \n",
    "\n",
    "It is also strange that the lowest value for Grade has a higher price than the two following values for grade. I'll also investigate that further."
   ]
  },
  {
   "cell_type": "code",
   "execution_count": 15,
   "metadata": {},
   "outputs": [
    {
     "data": {
      "text/html": [
       "<div>\n",
       "<style scoped>\n",
       "    .dataframe tbody tr th:only-of-type {\n",
       "        vertical-align: middle;\n",
       "    }\n",
       "\n",
       "    .dataframe tbody tr th {\n",
       "        vertical-align: top;\n",
       "    }\n",
       "\n",
       "    .dataframe thead th {\n",
       "        text-align: right;\n",
       "    }\n",
       "</style>\n",
       "<table border=\"1\" class=\"dataframe\">\n",
       "  <thead>\n",
       "    <tr style=\"text-align: right;\">\n",
       "      <th></th>\n",
       "      <th>count</th>\n",
       "      <th>max</th>\n",
       "      <th>min</th>\n",
       "      <th>mean</th>\n",
       "      <th>median</th>\n",
       "    </tr>\n",
       "    <tr>\n",
       "      <th>Grade</th>\n",
       "      <th></th>\n",
       "      <th></th>\n",
       "      <th></th>\n",
       "      <th></th>\n",
       "      <th></th>\n",
       "    </tr>\n",
       "  </thead>\n",
       "  <tbody>\n",
       "    <tr>\n",
       "      <th>3</th>\n",
       "      <td>1</td>\n",
       "      <td>262000.0</td>\n",
       "      <td>262000.0</td>\n",
       "      <td>2.620000e+05</td>\n",
       "      <td>262000.0</td>\n",
       "    </tr>\n",
       "    <tr>\n",
       "      <th>4</th>\n",
       "      <td>27</td>\n",
       "      <td>435000.0</td>\n",
       "      <td>80000.0</td>\n",
       "      <td>2.120019e+05</td>\n",
       "      <td>200000.0</td>\n",
       "    </tr>\n",
       "    <tr>\n",
       "      <th>5</th>\n",
       "      <td>235</td>\n",
       "      <td>795000.0</td>\n",
       "      <td>78000.0</td>\n",
       "      <td>2.500485e+05</td>\n",
       "      <td>229950.0</td>\n",
       "    </tr>\n",
       "    <tr>\n",
       "      <th>6</th>\n",
       "      <td>1991</td>\n",
       "      <td>1200000.0</td>\n",
       "      <td>82000.0</td>\n",
       "      <td>3.024106e+05</td>\n",
       "      <td>276000.0</td>\n",
       "    </tr>\n",
       "    <tr>\n",
       "      <th>7</th>\n",
       "      <td>8762</td>\n",
       "      <td>2050000.0</td>\n",
       "      <td>90000.0</td>\n",
       "      <td>4.023335e+05</td>\n",
       "      <td>375000.0</td>\n",
       "    </tr>\n",
       "    <tr>\n",
       "      <th>8</th>\n",
       "      <td>5922</td>\n",
       "      <td>3070000.0</td>\n",
       "      <td>140000.0</td>\n",
       "      <td>5.435257e+05</td>\n",
       "      <td>512250.0</td>\n",
       "    </tr>\n",
       "    <tr>\n",
       "      <th>9</th>\n",
       "      <td>2546</td>\n",
       "      <td>2700000.0</td>\n",
       "      <td>230000.0</td>\n",
       "      <td>7.741851e+05</td>\n",
       "      <td>721750.0</td>\n",
       "    </tr>\n",
       "    <tr>\n",
       "      <th>10</th>\n",
       "      <td>1108</td>\n",
       "      <td>3600000.0</td>\n",
       "      <td>316000.0</td>\n",
       "      <td>1.071458e+06</td>\n",
       "      <td>910500.0</td>\n",
       "    </tr>\n",
       "    <tr>\n",
       "      <th>11</th>\n",
       "      <td>389</td>\n",
       "      <td>7060000.0</td>\n",
       "      <td>420000.0</td>\n",
       "      <td>1.494643e+06</td>\n",
       "      <td>1280000.0</td>\n",
       "    </tr>\n",
       "    <tr>\n",
       "      <th>12</th>\n",
       "      <td>88</td>\n",
       "      <td>5350000.0</td>\n",
       "      <td>835000.0</td>\n",
       "      <td>2.167330e+06</td>\n",
       "      <td>1820000.0</td>\n",
       "    </tr>\n",
       "    <tr>\n",
       "      <th>13</th>\n",
       "      <td>13</td>\n",
       "      <td>7700000.0</td>\n",
       "      <td>1780000.0</td>\n",
       "      <td>3.710769e+06</td>\n",
       "      <td>2980000.0</td>\n",
       "    </tr>\n",
       "  </tbody>\n",
       "</table>\n",
       "</div>"
      ],
      "text/plain": [
       "       count        max        min          mean     median\n",
       "Grade                                                      \n",
       "3          1   262000.0   262000.0  2.620000e+05   262000.0\n",
       "4         27   435000.0    80000.0  2.120019e+05   200000.0\n",
       "5        235   795000.0    78000.0  2.500485e+05   229950.0\n",
       "6       1991  1200000.0    82000.0  3.024106e+05   276000.0\n",
       "7       8762  2050000.0    90000.0  4.023335e+05   375000.0\n",
       "8       5922  3070000.0   140000.0  5.435257e+05   512250.0\n",
       "9       2546  2700000.0   230000.0  7.741851e+05   721750.0\n",
       "10      1108  3600000.0   316000.0  1.071458e+06   910500.0\n",
       "11       389  7060000.0   420000.0  1.494643e+06  1280000.0\n",
       "12        88  5350000.0   835000.0  2.167330e+06  1820000.0\n",
       "13        13  7700000.0  1780000.0  3.710769e+06  2980000.0"
      ]
     },
     "execution_count": 15,
     "metadata": {},
     "output_type": "execute_result"
    }
   ],
   "source": [
    "kc.groupby('Grade').Price.agg(['count','max','min','mean','median'])"
   ]
  },
  {
   "cell_type": "markdown",
   "metadata": {},
   "source": [
    "There is only one record for a house with a grade of 3. This record will be eliminated since we don't know if this house is an outlier."
   ]
  },
  {
   "cell_type": "code",
   "execution_count": 16,
   "metadata": {},
   "outputs": [],
   "source": [
    "kc.drop(kc.loc[kc.Grade == 3].index, inplace = True)"
   ]
  },
  {
   "cell_type": "markdown",
   "metadata": {},
   "source": [
    "#### 2.3.4  Change Yr_Renovated to categorical\n",
    "This is relatively straightforward. The complicated part is that many of the homes have a value of 0.0 for the year renovated, which is nonsensical. It would be good to investigate how many homes have a renovation date on record."
   ]
  },
  {
   "cell_type": "code",
   "execution_count": 17,
   "metadata": {},
   "outputs": [
    {
     "data": {
      "text/plain": [
       "'The number of houses with documented renovations is 722'"
      ]
     },
     "execution_count": 17,
     "metadata": {},
     "output_type": "execute_result"
    }
   ],
   "source": [
    "num_unknown_rennovations = kc.Yr_Renovated.replace(to_replace = 0,\n",
    "                                                   value = np.nan).isna().sum()\n",
    "num_renovated = (len(kc) - num_unknown_rennovations)\n",
    "'The number of houses with documented renovations is {0:G}'.format(num_renovated)"
   ]
  },
  {
   "cell_type": "markdown",
   "metadata": {},
   "source": [
    "Since there are so few homes and so many features, I don't think it makes sense to treat this as a continuous variable for those homes that have been renovated."
   ]
  },
  {
   "cell_type": "code",
   "execution_count": 18,
   "metadata": {},
   "outputs": [],
   "source": [
    "kc.Yr_Renovated.fillna(0, inplace = True)\n",
    "kc['Renovated'] = kc.Yr_Renovated.where(kc.Yr_Renovated <= 0, other = 1)\n",
    "kc['Renovated'] = (kc.Renovated > 0).astype('category')\n",
    "kc.drop(labels = 'Yr_Renovated', axis = 1, inplace = True)"
   ]
  },
  {
   "cell_type": "markdown",
   "metadata": {},
   "source": [
    "#### 2.3.5 Exploring Sqft_Living, Sqft_Basement, and Sqft_Above\n",
    "From the description of the columns, I don't think that we need to keep all three of: Sqft_living, Sqft_Above, and Sqft_Basement. Sqft_Above indicates the area of the house above the basement. It is likely that the sum of the area above the basement and the basement area is almost always the \"living area\". I'll check this assumption quickly. If this mostly holds true, then I'll drop \"living area\", if not then I'll drop \"above\"."
   ]
  },
  {
   "cell_type": "code",
   "execution_count": 19,
   "metadata": {},
   "outputs": [
    {
     "name": "stdout",
     "output_type": "stream",
     "text": [
      "21081\n",
      "21081\n"
     ]
    }
   ],
   "source": [
    "print(((kc.Sqft_Above+kc.Sqft_Basement)==kc.Sqft_Living).sum()) #This is the number of houses whose area above and below matches total area\n",
    "print(len(kc.Price))"
   ]
  },
  {
   "cell_type": "markdown",
   "metadata": {},
   "source": [
    "How wonderful! It's a perfect match, so I'll drop Sqft_Living since it's accounted for in the sum of basement and above area."
   ]
  },
  {
   "cell_type": "code",
   "execution_count": 20,
   "metadata": {},
   "outputs": [],
   "source": [
    "kc.drop('Sqft_Living', axis = 1, inplace = True)"
   ]
  },
  {
   "cell_type": "markdown",
   "metadata": {},
   "source": [
    "#### 2.3.6 Dealing with the date.\n",
    "\n",
    "My inclination here is that prices are higher in the summer months because demand is higher. I'll look at a 30 day rolling window to spot trends in the median price, and also resample the data by month to also look for trends."
   ]
  },
  {
   "cell_type": "code",
   "execution_count": 21,
   "metadata": {},
   "outputs": [
    {
     "data": {
      "image/png": "[encoded data removed]",
      "text/plain": [
       "<Figure size 864x288 with 2 Axes>"
      ]
     },
     "metadata": {},
     "output_type": "display_data"
    },
    {
     "data": {
      "text/plain": [
       "'The maximum swing in adjusted price is 11.61%'"
      ]
     },
     "execution_count": 21,
     "metadata": {},
     "output_type": "execute_result"
    }
   ],
   "source": [
    "fig, (ax1, ax2) = plt.subplots(1, 2, figsize = (12,4))\n",
    "kc.groupby('Date').Price.median().rolling(30).median().plot(ax = ax1, title = 'Rolling Window')\n",
    "kc.reset_index().set_index(['Date']).resample('m').Price.median().plot(ax = ax2, title = 'Resampled Data')\n",
    "plt.show()\n",
    "\n",
    "# Calculate the maximum 'swing' in price as compared to the median\n",
    "price_adjustment = (kc.reset_index().set_index(['Date']).resample('m').Price.median() / kc.Price.median() - 1)*100\n",
    "max_swing = price_adjustment.max()-price_adjustment.min()\n",
    "'The maximum swing in adjusted price is {0:2.2f}%'.format(max_swing)"
   ]
  },
  {
   "cell_type": "markdown",
   "metadata": {},
   "source": [
    "The maximum swing on the median price is a hefty 11.61%! The model will have to account for the time of the year in order to be more accurate. The easiest way to do this will be to resample by month and then turn into a category. Complexity can be added to the model later by fitting a function to the date, instead of simply categorizing by month."
   ]
  },
  {
   "cell_type": "code",
   "execution_count": 22,
   "metadata": {},
   "outputs": [],
   "source": [
    "kc['Month'] = kc.Date.dt.month_name().astype('category')\n",
    "kc.drop('Date', axis = 1, inplace = True)"
   ]
  },
  {
   "cell_type": "markdown",
   "metadata": {},
   "source": [
    "#### 2.3.7 Deciding what to do with lat and long values\n",
    "\n",
    "Here's a map of King County with zip-code boundaries:\n",
    "<img src=\"https://www.kingcounty.gov/~/media/operations/GIS/maps/vmc/images/zipcodes_westKC_586.ashx?la=en\" alt=\"An image of King County with zip-code boundaries\" title=\"King Country Zip Codes\" />\n",
    "<br><br><br>\n",
    "And, for comparison's sake, here's a map of Manhattan with zip-code boundaries:\n",
    "<img src=\"https://www.propertyshark.com/Real-Estate-Reports/wp-content/uploads/2012/10/infographic-zip-codes-3.png\" alt=\"An image of Manhattan with zip-code boundaries\" title=\"Manhattan Zip Codes\" />\n",
    "\n",
    "Zip code boundaries trace a mixture of natural boundaries and, I suspect, socioeconomic boundaries. This is corroborated by the Manhattan zipcodes, where neighborhoods are roughly approximated by zip codes (I live in NYC, so I'm more familiar with the neighborhoods here). Though zip codes are not a perfect stand-in for neighborhoods, they are adequate for a first pass at this model. If I have time, I will attend to making discrete quadrants that better capture pricing at the neighborhood level. \n"
   ]
  },
  {
   "cell_type": "code",
   "execution_count": 23,
   "metadata": {},
   "outputs": [],
   "source": [
    "kc.drop(labels = ['Lat', 'Long'], axis = 1, inplace = True)"
   ]
  },
  {
   "cell_type": "markdown",
   "metadata": {},
   "source": [
    "#### 2.3.8 Investigating the house with 33 bedrooms"
   ]
  },
  {
   "cell_type": "markdown",
   "metadata": {},
   "source": [
    "I'll look at the data for the house in question to make a decision."
   ]
  },
  {
   "cell_type": "code",
   "execution_count": 24,
   "metadata": {},
   "outputs": [
    {
     "data": {
      "text/html": [
       "<div>\n",
       "<style scoped>\n",
       "    .dataframe tbody tr th:only-of-type {\n",
       "        vertical-align: middle;\n",
       "    }\n",
       "\n",
       "    .dataframe tbody tr th {\n",
       "        vertical-align: top;\n",
       "    }\n",
       "\n",
       "    .dataframe thead th {\n",
       "        text-align: right;\n",
       "    }\n",
       "</style>\n",
       "<table border=\"1\" class=\"dataframe\">\n",
       "  <thead>\n",
       "    <tr style=\"text-align: right;\">\n",
       "      <th></th>\n",
       "      <th>Price</th>\n",
       "      <th>Bedrooms</th>\n",
       "      <th>Bathrooms</th>\n",
       "      <th>Sqft_Lot</th>\n",
       "      <th>Floors</th>\n",
       "      <th>Waterfront</th>\n",
       "      <th>View</th>\n",
       "      <th>Condition</th>\n",
       "      <th>Grade</th>\n",
       "      <th>Sqft_Above</th>\n",
       "      <th>Sqft_Basement</th>\n",
       "      <th>Yr_Built</th>\n",
       "      <th>Zipcode</th>\n",
       "      <th>Sqft_Living15</th>\n",
       "      <th>Sqft_Lot15</th>\n",
       "      <th>Basement</th>\n",
       "      <th>Renovated</th>\n",
       "      <th>Month</th>\n",
       "    </tr>\n",
       "    <tr>\n",
       "      <th>id</th>\n",
       "      <th></th>\n",
       "      <th></th>\n",
       "      <th></th>\n",
       "      <th></th>\n",
       "      <th></th>\n",
       "      <th></th>\n",
       "      <th></th>\n",
       "      <th></th>\n",
       "      <th></th>\n",
       "      <th></th>\n",
       "      <th></th>\n",
       "      <th></th>\n",
       "      <th></th>\n",
       "      <th></th>\n",
       "      <th></th>\n",
       "      <th></th>\n",
       "      <th></th>\n",
       "      <th></th>\n",
       "    </tr>\n",
       "  </thead>\n",
       "  <tbody>\n",
       "    <tr>\n",
       "      <th>2402100895</th>\n",
       "      <td>640000.0</td>\n",
       "      <td>33</td>\n",
       "      <td>1.75</td>\n",
       "      <td>6000</td>\n",
       "      <td>1.0</td>\n",
       "      <td>False</td>\n",
       "      <td>False</td>\n",
       "      <td>5</td>\n",
       "      <td>7</td>\n",
       "      <td>1040</td>\n",
       "      <td>580.0</td>\n",
       "      <td>1947</td>\n",
       "      <td>98103</td>\n",
       "      <td>1330</td>\n",
       "      <td>4700</td>\n",
       "      <td>True</td>\n",
       "      <td>False</td>\n",
       "      <td>June</td>\n",
       "    </tr>\n",
       "  </tbody>\n",
       "</table>\n",
       "</div>"
      ],
      "text/plain": [
       "               Price  Bedrooms  Bathrooms  Sqft_Lot  Floors Waterfront   View  \\\n",
       "id                                                                              \n",
       "2402100895  640000.0        33       1.75      6000     1.0      False  False   \n",
       "\n",
       "            Condition  Grade  Sqft_Above  Sqft_Basement  Yr_Built Zipcode  \\\n",
       "id                                                                          \n",
       "2402100895          5      7        1040          580.0      1947   98103   \n",
       "\n",
       "            Sqft_Living15  Sqft_Lot15 Basement Renovated Month  \n",
       "id                                                              \n",
       "2402100895           1330        4700     True     False  June  "
      ]
     },
     "execution_count": 24,
     "metadata": {},
     "output_type": "execute_result"
    }
   ],
   "source": [
    "kc.loc[kc.Bedrooms == 33]"
   ]
  },
  {
   "cell_type": "markdown",
   "metadata": {},
   "source": [
    "I would find it very difficult to fit 33 bedrooms into 1040 ft$^2$. I'll drop the datum."
   ]
  },
  {
   "cell_type": "code",
   "execution_count": 25,
   "metadata": {},
   "outputs": [
    {
     "data": {
      "text/plain": [
       "count    21080.000000\n",
       "mean         3.371110\n",
       "std          0.902101\n",
       "min          1.000000\n",
       "25%          3.000000\n",
       "50%          3.000000\n",
       "75%          4.000000\n",
       "max         11.000000\n",
       "Name: Bedrooms, dtype: float64"
      ]
     },
     "execution_count": 25,
     "metadata": {},
     "output_type": "execute_result"
    }
   ],
   "source": [
    "kc.drop(labels = kc.loc[kc.Bedrooms == 33].index, inplace = True)\n",
    "kc.Bedrooms.describe()"
   ]
  },
  {
   "cell_type": "markdown",
   "metadata": {},
   "source": [
    "A house with 11 bedrooms is plausible."
   ]
  },
  {
   "cell_type": "markdown",
   "metadata": {},
   "source": [
    "To finish up importing the data, I'll check the metadata again:"
   ]
  },
  {
   "cell_type": "code",
   "execution_count": 26,
   "metadata": {},
   "outputs": [
    {
     "name": "stdout",
     "output_type": "stream",
     "text": [
      "<class 'pandas.core.frame.DataFrame'>\n",
      "Int64Index: 21080 entries, 7129300520 to 1523300157\n",
      "Data columns (total 18 columns):\n",
      "Price            21080 non-null float64\n",
      "Bedrooms         21080 non-null int64\n",
      "Bathrooms        21080 non-null float64\n",
      "Sqft_Lot         21080 non-null int64\n",
      "Floors           21080 non-null float64\n",
      "Waterfront       21080 non-null category\n",
      "View             21080 non-null category\n",
      "Condition        21080 non-null int64\n",
      "Grade            21080 non-null int64\n",
      "Sqft_Above       21080 non-null int64\n",
      "Sqft_Basement    21080 non-null float64\n",
      "Yr_Built         21080 non-null int64\n",
      "Zipcode          21080 non-null category\n",
      "Sqft_Living15    21080 non-null int64\n",
      "Sqft_Lot15       21080 non-null int64\n",
      "Basement         21080 non-null category\n",
      "Renovated        21080 non-null category\n",
      "Month            21080 non-null category\n",
      "dtypes: category(6), float64(4), int64(8)\n",
      "memory usage: 2.2 MB\n"
     ]
    }
   ],
   "source": [
    "kc.info()"
   ]
  },
  {
   "cell_type": "markdown",
   "metadata": {},
   "source": [
    "That looks significantly better now. Some series' types could be changed to improve efficiency, but I'm not worried about it at this point since the dataframe is small."
   ]
  },
  {
   "cell_type": "markdown",
   "metadata": {},
   "source": [
    "<a id=\"3\"></a>\n",
    "## 3. Exploring and Modifying Data (Explore)\n",
    "\n",
    "First, I'll attend to some questions that I have about the neghbors data (`Sqft_Living15` and `Sqft_Lot15`) and make decisions about what to do. Then, I'll look at the zipcode data to determine how to manage it, given that one-hot-encoding will increase the dimensionality of the predictors dramatically. Finally, I'll explore the data for duplicates to ensure that one value is not overrepresented, or that other behaviors are not errantly accounted for.\n",
    "\n",
    "I will then perform some of the standard investigations with pointed questions to drive my understanding of the data. I am mostly looking to develop a better mental model of the data during this phase so that I can better oversee the modeling process.\n",
    "\n",
    "Finally, I'll clean up the data one last time before getting ready to prepare it for modeling. I imagine that I will uncover some important information along the way that will prompt me to remove data and perform some encoding.\n",
    "\n",
    "I will be using ipywidgets throughout to make automate some of the process and make graphs interactive. This should help me answer questions faster."
   ]
  },
  {
   "cell_type": "code",
   "execution_count": 27,
   "metadata": {},
   "outputs": [],
   "source": [
    "import ipywidgets as widgets\n",
    "from ipywidgets import interact, interact_manual"
   ]
  },
  {
   "cell_type": "markdown",
   "metadata": {},
   "source": [
    "### 3.1\n",
    "#### 3.1.1 Engineering \"Neighbor Envy\" Factor\n",
    "I am concerned that predictors for the house size and the size of neighboring houses will be highly correlated, which could significantly impact the meaning of the coefficients in an MLR model. I am also concerned that the size of the neighbors houses may not actually be important. **Is the relative difference in size between a house and its neighbors more important than the average absolute size of the neighbors' houses?** In other words, does \"neighbor envy\" play a role in determining the price of houses? I will investigate any colinearity that exists, and then answer my question directly."
   ]
  },
  {
   "cell_type": "code",
   "execution_count": 28,
   "metadata": {},
   "outputs": [
    {
     "data": {
      "text/html": [
       "<div>\n",
       "<style scoped>\n",
       "    .dataframe tbody tr th:only-of-type {\n",
       "        vertical-align: middle;\n",
       "    }\n",
       "\n",
       "    .dataframe tbody tr th {\n",
       "        vertical-align: top;\n",
       "    }\n",
       "\n",
       "    .dataframe thead th {\n",
       "        text-align: right;\n",
       "    }\n",
       "</style>\n",
       "<table border=\"1\" class=\"dataframe\">\n",
       "  <thead>\n",
       "    <tr style=\"text-align: right;\">\n",
       "      <th></th>\n",
       "      <th>Price</th>\n",
       "      <th>Sqft_Above</th>\n",
       "      <th>Sqft_Lot</th>\n",
       "      <th>Sqft_Living15</th>\n",
       "      <th>Sqft_Lot15</th>\n",
       "    </tr>\n",
       "  </thead>\n",
       "  <tbody>\n",
       "    <tr>\n",
       "      <th>Price</th>\n",
       "      <td>1.000000</td>\n",
       "      <td>0.605493</td>\n",
       "      <td>0.088402</td>\n",
       "      <td>0.586507</td>\n",
       "      <td>0.083535</td>\n",
       "    </tr>\n",
       "    <tr>\n",
       "      <th>Sqft_Above</th>\n",
       "      <td>0.605493</td>\n",
       "      <td>1.000000</td>\n",
       "      <td>0.183654</td>\n",
       "      <td>0.730770</td>\n",
       "      <td>0.195984</td>\n",
       "    </tr>\n",
       "    <tr>\n",
       "      <th>Sqft_Lot</th>\n",
       "      <td>0.088402</td>\n",
       "      <td>0.183654</td>\n",
       "      <td>1.000000</td>\n",
       "      <td>0.143809</td>\n",
       "      <td>0.719498</td>\n",
       "    </tr>\n",
       "    <tr>\n",
       "      <th>Sqft_Living15</th>\n",
       "      <td>0.586507</td>\n",
       "      <td>0.730770</td>\n",
       "      <td>0.143809</td>\n",
       "      <td>1.000000</td>\n",
       "      <td>0.183533</td>\n",
       "    </tr>\n",
       "    <tr>\n",
       "      <th>Sqft_Lot15</th>\n",
       "      <td>0.083535</td>\n",
       "      <td>0.195984</td>\n",
       "      <td>0.719498</td>\n",
       "      <td>0.183533</td>\n",
       "      <td>1.000000</td>\n",
       "    </tr>\n",
       "  </tbody>\n",
       "</table>\n",
       "</div>"
      ],
      "text/plain": [
       "                  Price  Sqft_Above  Sqft_Lot  Sqft_Living15  Sqft_Lot15\n",
       "Price          1.000000    0.605493  0.088402       0.586507    0.083535\n",
       "Sqft_Above     0.605493    1.000000  0.183654       0.730770    0.195984\n",
       "Sqft_Lot       0.088402    0.183654  1.000000       0.143809    0.719498\n",
       "Sqft_Living15  0.586507    0.730770  0.143809       1.000000    0.183533\n",
       "Sqft_Lot15     0.083535    0.195984  0.719498       0.183533    1.000000"
      ]
     },
     "execution_count": 28,
     "metadata": {},
     "output_type": "execute_result"
    }
   ],
   "source": [
    "kc[['Price','Sqft_Above','Sqft_Lot','Sqft_Living15','Sqft_Lot15']].corr()"
   ]
  },
  {
   "cell_type": "markdown",
   "metadata": {},
   "source": [
    "As I suspected, the corresponding features are highly correlated. This could spell disaster for the model. The features of the house itself are also more predictive in price than the features of the neighbors houses.  Given the colinearity, I'll transform the data and look at the results again. *** Articvulate neighbor's envy. Perhaps as a heading"
   ]
  },
  {
   "cell_type": "code",
   "execution_count": 29,
   "metadata": {},
   "outputs": [
    {
     "data": {
      "text/html": [
       "<div>\n",
       "<style scoped>\n",
       "    .dataframe tbody tr th:only-of-type {\n",
       "        vertical-align: middle;\n",
       "    }\n",
       "\n",
       "    .dataframe tbody tr th {\n",
       "        vertical-align: top;\n",
       "    }\n",
       "\n",
       "    .dataframe thead th {\n",
       "        text-align: right;\n",
       "    }\n",
       "</style>\n",
       "<table border=\"1\" class=\"dataframe\">\n",
       "  <thead>\n",
       "    <tr style=\"text-align: right;\">\n",
       "      <th></th>\n",
       "      <th>Lot_Difference</th>\n",
       "      <th>Living_Difference</th>\n",
       "    </tr>\n",
       "  </thead>\n",
       "  <tbody>\n",
       "    <tr>\n",
       "      <th>count</th>\n",
       "      <td>21080.000000</td>\n",
       "      <td>21080.000000</td>\n",
       "    </tr>\n",
       "    <tr>\n",
       "      <th>mean</th>\n",
       "      <td>0.134622</td>\n",
       "      <td>0.053155</td>\n",
       "    </tr>\n",
       "    <tr>\n",
       "      <th>std</th>\n",
       "      <td>1.293445</td>\n",
       "      <td>0.320528</td>\n",
       "    </tr>\n",
       "    <tr>\n",
       "      <th>min</th>\n",
       "      <td>-0.945028</td>\n",
       "      <td>-0.812721</td>\n",
       "    </tr>\n",
       "    <tr>\n",
       "      <th>5%</th>\n",
       "      <td>-0.333676</td>\n",
       "      <td>-0.368697</td>\n",
       "    </tr>\n",
       "    <tr>\n",
       "      <th>25%</th>\n",
       "      <td>-0.063228</td>\n",
       "      <td>-0.118881</td>\n",
       "    </tr>\n",
       "    <tr>\n",
       "      <th>50%</th>\n",
       "      <td>0.000000</td>\n",
       "      <td>0.000000</td>\n",
       "    </tr>\n",
       "    <tr>\n",
       "      <th>75%</th>\n",
       "      <td>0.093770</td>\n",
       "      <td>0.161022</td>\n",
       "    </tr>\n",
       "    <tr>\n",
       "      <th>95%</th>\n",
       "      <td>0.776977</td>\n",
       "      <td>0.636103</td>\n",
       "    </tr>\n",
       "    <tr>\n",
       "      <th>max</th>\n",
       "      <td>86.527179</td>\n",
       "      <td>5.000000</td>\n",
       "    </tr>\n",
       "  </tbody>\n",
       "</table>\n",
       "</div>"
      ],
      "text/plain": [
       "       Lot_Difference  Living_Difference\n",
       "count    21080.000000       21080.000000\n",
       "mean         0.134622           0.053155\n",
       "std          1.293445           0.320528\n",
       "min         -0.945028          -0.812721\n",
       "5%          -0.333676          -0.368697\n",
       "25%         -0.063228          -0.118881\n",
       "50%          0.000000           0.000000\n",
       "75%          0.093770           0.161022\n",
       "95%          0.776977           0.636103\n",
       "max         86.527179           5.000000"
      ]
     },
     "execution_count": 29,
     "metadata": {},
     "output_type": "execute_result"
    }
   ],
   "source": [
    "# Difference in size is relative to the house of the neighbors\n",
    "kc['Lot_Difference'] = (kc.Sqft_Lot - kc.Sqft_Lot15)/kc.Sqft_Lot15\n",
    "kc['Living_Difference'] = (kc.Sqft_Above + kc.Sqft_Basement - kc.Sqft_Living15)/kc.Sqft_Living15\n",
    "kc[['Lot_Difference','Living_Difference']].describe(percentiles = [.05, .25, .50, .75, .95])"
   ]
  },
  {
   "cell_type": "markdown",
   "metadata": {},
   "source": [
    "The descriptive data alone tells us that there are outliers in the data. I'll look at scatter plots to see if there is a pattern in the data. If not, I'll look at histograms to determine if binning is appropriate. By looking at layered slices of the data I may be able to determine where the null hypothesis $\\mu_{low}$ = $\\mu_{mid}$ = $\\mu_{high}$ can be rejected in order to make bins."
   ]
  },
  {
   "cell_type": "code",
   "execution_count": 30,
   "metadata": {},
   "outputs": [
    {
     "data": {
      "application/vnd.jupyter.widget-view+json": {
       "model_id": "4a590207fa0c473aab5b79848c1f0721",
       "version_major": 2,
       "version_minor": 0
      },
      "text/plain": [
       "interactive(children=(Dropdown(description='x', options=('Lot_Difference', 'Living_Difference'), value='Lot_Di…"
      ]
     },
     "metadata": {},
     "output_type": "display_data"
    }
   ],
   "source": [
    "@interact\n",
    "def neighbor_scatter(x = ['Lot_Difference','Living_Difference'],\n",
    "                     scale = ['linear','log']):\n",
    "    sns.set_context(\"paper\")\n",
    "    sns.set_style('darkgrid')\n",
    "    plt.figure(figsize = (10,6))\n",
    "    sns.scatterplot(x = kc[x], y = kc.Price)\n",
    "    plt.ylabel('Price',fontdict = {'size':14})\n",
    "    plt.xlabel(x,fontdict = {'size':14})\n",
    "    title = 'Price vs ' + x\n",
    "    plt.title(title, fontdict = {'size':16})\n",
    "    plt.xlim([-1,5]) # Limiting the window to not see outliers in Lot_Data\n",
    "    plt.yscale(scale)\n",
    "    plt.show()"
   ]
  },
  {
   "cell_type": "markdown",
   "metadata": {},
   "source": [
    "It certainly looks like `Living_Difference` is correlated with log(price)! I can't make out a patter for `Lot_Difference`, so I'll investigate further with histograms sliced by quantiles."
   ]
  },
  {
   "cell_type": "code",
   "execution_count": 31,
   "metadata": {},
   "outputs": [
    {
     "data": {
      "application/vnd.jupyter.widget-view+json": {
       "model_id": "9207a2c47a1c4f1cb5d9dab5bc67a8fb",
       "version_major": 2,
       "version_minor": 0
      },
      "text/plain": [
       "interactive(children=(Dropdown(description='data', options=('Lot_Difference', 'Living_Difference'), value='Lot…"
      ]
     },
     "metadata": {},
     "output_type": "display_data"
    }
   ],
   "source": [
    "@interact\n",
    "def neighbor_difference(\n",
    "              data = ['Lot_Difference', 'Living_Difference'],\n",
    "              lower_cutoff = (0,0.5,0.05),\n",
    "              upper_cutoff = (0.5,1,0.05)):\n",
    "    \n",
    "    \n",
    "    # Process the data into slices by quantile\n",
    "    data_name = data\n",
    "    data = kc[data]\n",
    "    data_low = kc.loc[data.loc[(data <= data.quantile(lower_cutoff))].index].Price.dropna()\n",
    "    data_mid = kc.loc[data.loc[(data > data.quantile(lower_cutoff)) & (data < data.quantile(upper_cutoff))].index].Price.dropna()\n",
    "    data_high = kc.loc[data.loc[(data >= data.quantile(upper_cutoff))].index].Price.dropna()\n",
    "    \n",
    "    \n",
    "    # Make the plot\n",
    "    fig, (ax1) = plt.subplots(1,1,figsize = (12,9))\n",
    "    sns.distplot(data_low.apply(np.log10), kde = True, hist_kws=dict(alpha=0.3), ax = ax1)\n",
    "    sns.distplot(data_mid.apply(np.log10), kde = True, hist_kws=dict(alpha=0.3), ax = ax1)\n",
    "    sns.distplot(data_high.apply(np.log10), kde = True, hist_kws=dict(alpha=0.3), ax = ax1)\n",
    "    title = \"Distribution of \" + data_name\n",
    "    n_text = \"n Low:{0:d}\\nn Mid:{1:d}\\nn High:{2:d}\".format(len(data_low),len(data_mid),len(data_high))\n",
    "    ax1.text(0.02, \n",
    "             0.9, \n",
    "             n_text, \n",
    "             horizontalalignment='left',\n",
    "             verticalalignment='top',\n",
    "             fontsize = 16,\n",
    "             transform=ax1.transAxes)\n",
    "    ax1.set_title(title)\n",
    "    plt.legend(['Low','Middle','High'], prop = {'size':14})\n",
    "    plt.show()"
   ]
  },
  {
   "cell_type": "markdown",
   "metadata": {},
   "source": [
    "It does not appear that a difference in lot size is a good predictor of price even at the extremes of the distributions. It makes sense not to include lot size differences in the final model.\n",
    "A difference in living area compared to the neighbors does, however, have a pretty significant effect on the price of a house. This is easily visualized by splitting the data into the bottom and top 5%. I'll look at the correlations between `Price` and `Living_Difference` to determine whether it is better to bin the data."
   ]
  },
  {
   "cell_type": "code",
   "execution_count": 32,
   "metadata": {},
   "outputs": [
    {
     "data": {
      "text/html": [
       "<div>\n",
       "<style scoped>\n",
       "    .dataframe tbody tr th:only-of-type {\n",
       "        vertical-align: middle;\n",
       "    }\n",
       "\n",
       "    .dataframe tbody tr th {\n",
       "        vertical-align: top;\n",
       "    }\n",
       "\n",
       "    .dataframe thead th {\n",
       "        text-align: right;\n",
       "    }\n",
       "</style>\n",
       "<table border=\"1\" class=\"dataframe\">\n",
       "  <thead>\n",
       "    <tr style=\"text-align: right;\">\n",
       "      <th></th>\n",
       "      <th>Price</th>\n",
       "      <th>Living_Difference</th>\n",
       "      <th>Sqft_Above</th>\n",
       "      <th>log(Price)</th>\n",
       "    </tr>\n",
       "  </thead>\n",
       "  <tbody>\n",
       "    <tr>\n",
       "      <th>Price</th>\n",
       "      <td>1.000000</td>\n",
       "      <td>0.300698</td>\n",
       "      <td>0.605493</td>\n",
       "      <td>0.892693</td>\n",
       "    </tr>\n",
       "    <tr>\n",
       "      <th>Living_Difference</th>\n",
       "      <td>0.300698</td>\n",
       "      <td>1.000000</td>\n",
       "      <td>0.421548</td>\n",
       "      <td>0.304135</td>\n",
       "    </tr>\n",
       "    <tr>\n",
       "      <th>Sqft_Above</th>\n",
       "      <td>0.605493</td>\n",
       "      <td>0.421548</td>\n",
       "      <td>1.000000</td>\n",
       "      <td>0.601393</td>\n",
       "    </tr>\n",
       "    <tr>\n",
       "      <th>log(Price)</th>\n",
       "      <td>0.892693</td>\n",
       "      <td>0.304135</td>\n",
       "      <td>0.601393</td>\n",
       "      <td>1.000000</td>\n",
       "    </tr>\n",
       "  </tbody>\n",
       "</table>\n",
       "</div>"
      ],
      "text/plain": [
       "                      Price  Living_Difference  Sqft_Above  log(Price)\n",
       "Price              1.000000           0.300698    0.605493    0.892693\n",
       "Living_Difference  0.300698           1.000000    0.421548    0.304135\n",
       "Sqft_Above         0.605493           0.421548    1.000000    0.601393\n",
       "log(Price)         0.892693           0.304135    0.601393    1.000000"
      ]
     },
     "execution_count": 32,
     "metadata": {},
     "output_type": "execute_result"
    }
   ],
   "source": [
    "kc.drop(labels = ['Sqft_Living15', 'Sqft_Lot15', 'Lot_Difference'], axis = 1, inplace = True)\n",
    "temp = kc[['Price','Living_Difference','Sqft_Above']]\n",
    "temp['log(Price)'] = temp.Price.apply(np.log10)\n",
    "temp.corr()"
   ]
  },
  {
   "cell_type": "code",
   "execution_count": 33,
   "metadata": {},
   "outputs": [],
   "source": [
    "del temp"
   ]
  },
  {
   "cell_type": "markdown",
   "metadata": {},
   "source": [
    "The colinearity is reduced, but so is the correlation. This is a hard decision to make, but I know that a colinear predictor may make the model nonsensical later. I'll take the price of reducing colinearity if it affords me the ability to use the variable in the final model. If `Living_Difference`, the \"neighbor envy\" factor, is not included in the final model then I'll add in `Sqft_Living15` back into the model to see if it works."
   ]
  },
  {
   "cell_type": "markdown",
   "metadata": {},
   "source": [
    "#### 3.1.2  Managing Zipcode Data\n",
    "Zipcode is a categorical series with too many unique values to be functionally useful. RFE will take forever if there are too many dummy variables, and deciding which dummy variables to use is somewhat arbitrary and based on the total number of features. __Does it make sense to perform target encoding for the zipcode data?__ I will look at the correlation between the encoded data and the target to make a decision based on that value."
   ]
  },
  {
   "cell_type": "code",
   "execution_count": 34,
   "metadata": {},
   "outputs": [
    {
     "name": "stdout",
     "output_type": "stream",
     "text": [
      "Zipcode Means : Price\t0.6392230483040799\n"
     ]
    }
   ],
   "source": [
    "zip_means = kc.groupby('Zipcode')['Price'].mean()\n",
    "kc['Zipcode_Means'] = kc.Zipcode.map(zip_means)\n",
    "print('Zipcode Means : Price\\t' + str(kc.corr().loc['Zipcode_Means','Price']))"
   ]
  },
  {
   "cell_type": "markdown",
   "metadata": {},
   "source": [
    "The correlation between Zipcode Means and Price is high, so I'll keep the target encoding and drop the Zipcodes. This allows me to use all of the data rather than forcing RFE to cycle through the data. This will help me to understand the final model regardless."
   ]
  },
  {
   "cell_type": "code",
   "execution_count": 35,
   "metadata": {},
   "outputs": [],
   "source": [
    "kc.drop('Zipcode', axis = 1, inplace = True)"
   ]
  },
  {
   "cell_type": "markdown",
   "metadata": {},
   "source": [
    "#### 3.1.2 Investigating Duplicate Data\n",
    "It may be the case that there is duplicate data. If there is, then I'll investigate it in order to make a decision about what to do. If the data is purely duplicated, then I'll drop it. If not, then I'll form an understanding of what the duplicate data might mean and put a plan in action."
   ]
  },
  {
   "cell_type": "code",
   "execution_count": 36,
   "metadata": {},
   "outputs": [
    {
     "data": {
      "text/html": [
       "<div>\n",
       "<style scoped>\n",
       "    .dataframe tbody tr th:only-of-type {\n",
       "        vertical-align: middle;\n",
       "    }\n",
       "\n",
       "    .dataframe tbody tr th {\n",
       "        vertical-align: top;\n",
       "    }\n",
       "\n",
       "    .dataframe thead th {\n",
       "        text-align: right;\n",
       "    }\n",
       "</style>\n",
       "<table border=\"1\" class=\"dataframe\">\n",
       "  <thead>\n",
       "    <tr style=\"text-align: right;\">\n",
       "      <th></th>\n",
       "      <th>Price</th>\n",
       "      <th>Bedrooms</th>\n",
       "      <th>Bathrooms</th>\n",
       "      <th>Sqft_Lot</th>\n",
       "      <th>Floors</th>\n",
       "      <th>Waterfront</th>\n",
       "      <th>View</th>\n",
       "      <th>Condition</th>\n",
       "      <th>Grade</th>\n",
       "      <th>Sqft_Above</th>\n",
       "      <th>Sqft_Basement</th>\n",
       "      <th>Yr_Built</th>\n",
       "      <th>Basement</th>\n",
       "      <th>Renovated</th>\n",
       "      <th>Month</th>\n",
       "      <th>Living_Difference</th>\n",
       "      <th>Zipcode_Means</th>\n",
       "    </tr>\n",
       "    <tr>\n",
       "      <th>id</th>\n",
       "      <th></th>\n",
       "      <th></th>\n",
       "      <th></th>\n",
       "      <th></th>\n",
       "      <th></th>\n",
       "      <th></th>\n",
       "      <th></th>\n",
       "      <th></th>\n",
       "      <th></th>\n",
       "      <th></th>\n",
       "      <th></th>\n",
       "      <th></th>\n",
       "      <th></th>\n",
       "      <th></th>\n",
       "      <th></th>\n",
       "      <th></th>\n",
       "      <th></th>\n",
       "    </tr>\n",
       "  </thead>\n",
       "  <tbody>\n",
       "    <tr>\n",
       "      <th>1000102</th>\n",
       "      <td>280000.0</td>\n",
       "      <td>6</td>\n",
       "      <td>3.00</td>\n",
       "      <td>9373</td>\n",
       "      <td>2.0</td>\n",
       "      <td>False</td>\n",
       "      <td>False</td>\n",
       "      <td>3</td>\n",
       "      <td>7</td>\n",
       "      <td>2400</td>\n",
       "      <td>0.0</td>\n",
       "      <td>1991</td>\n",
       "      <td>False</td>\n",
       "      <td>False</td>\n",
       "      <td>September</td>\n",
       "      <td>0.165049</td>\n",
       "      <td>234512.742424</td>\n",
       "    </tr>\n",
       "    <tr>\n",
       "      <th>1000102</th>\n",
       "      <td>300000.0</td>\n",
       "      <td>6</td>\n",
       "      <td>3.00</td>\n",
       "      <td>9373</td>\n",
       "      <td>2.0</td>\n",
       "      <td>False</td>\n",
       "      <td>False</td>\n",
       "      <td>3</td>\n",
       "      <td>7</td>\n",
       "      <td>2400</td>\n",
       "      <td>0.0</td>\n",
       "      <td>1991</td>\n",
       "      <td>False</td>\n",
       "      <td>False</td>\n",
       "      <td>April</td>\n",
       "      <td>0.165049</td>\n",
       "      <td>234512.742424</td>\n",
       "    </tr>\n",
       "    <tr>\n",
       "      <th>7200179</th>\n",
       "      <td>150000.0</td>\n",
       "      <td>2</td>\n",
       "      <td>1.00</td>\n",
       "      <td>12750</td>\n",
       "      <td>1.0</td>\n",
       "      <td>False</td>\n",
       "      <td>False</td>\n",
       "      <td>3</td>\n",
       "      <td>6</td>\n",
       "      <td>840</td>\n",
       "      <td>0.0</td>\n",
       "      <td>1925</td>\n",
       "      <td>False</td>\n",
       "      <td>False</td>\n",
       "      <td>October</td>\n",
       "      <td>-0.432432</td>\n",
       "      <td>304805.727969</td>\n",
       "    </tr>\n",
       "    <tr>\n",
       "      <th>7200179</th>\n",
       "      <td>175000.0</td>\n",
       "      <td>2</td>\n",
       "      <td>1.00</td>\n",
       "      <td>12750</td>\n",
       "      <td>1.0</td>\n",
       "      <td>False</td>\n",
       "      <td>False</td>\n",
       "      <td>3</td>\n",
       "      <td>6</td>\n",
       "      <td>840</td>\n",
       "      <td>0.0</td>\n",
       "      <td>1925</td>\n",
       "      <td>False</td>\n",
       "      <td>False</td>\n",
       "      <td>April</td>\n",
       "      <td>-0.432432</td>\n",
       "      <td>304805.727969</td>\n",
       "    </tr>\n",
       "    <tr>\n",
       "      <th>109200390</th>\n",
       "      <td>245000.0</td>\n",
       "      <td>3</td>\n",
       "      <td>1.75</td>\n",
       "      <td>3900</td>\n",
       "      <td>1.0</td>\n",
       "      <td>False</td>\n",
       "      <td>False</td>\n",
       "      <td>4</td>\n",
       "      <td>7</td>\n",
       "      <td>1480</td>\n",
       "      <td>0.0</td>\n",
       "      <td>1980</td>\n",
       "      <td>False</td>\n",
       "      <td>False</td>\n",
       "      <td>August</td>\n",
       "      <td>-0.191257</td>\n",
       "      <td>283932.361570</td>\n",
       "    </tr>\n",
       "    <tr>\n",
       "      <th>109200390</th>\n",
       "      <td>250000.0</td>\n",
       "      <td>3</td>\n",
       "      <td>1.75</td>\n",
       "      <td>3900</td>\n",
       "      <td>1.0</td>\n",
       "      <td>False</td>\n",
       "      <td>False</td>\n",
       "      <td>4</td>\n",
       "      <td>7</td>\n",
       "      <td>1480</td>\n",
       "      <td>0.0</td>\n",
       "      <td>1980</td>\n",
       "      <td>False</td>\n",
       "      <td>False</td>\n",
       "      <td>October</td>\n",
       "      <td>-0.191257</td>\n",
       "      <td>283932.361570</td>\n",
       "    </tr>\n",
       "    <tr>\n",
       "      <th>123039336</th>\n",
       "      <td>148000.0</td>\n",
       "      <td>1</td>\n",
       "      <td>1.00</td>\n",
       "      <td>8261</td>\n",
       "      <td>1.0</td>\n",
       "      <td>False</td>\n",
       "      <td>False</td>\n",
       "      <td>3</td>\n",
       "      <td>5</td>\n",
       "      <td>620</td>\n",
       "      <td>0.0</td>\n",
       "      <td>1939</td>\n",
       "      <td>False</td>\n",
       "      <td>False</td>\n",
       "      <td>June</td>\n",
       "      <td>-0.474576</td>\n",
       "      <td>319821.480243</td>\n",
       "    </tr>\n",
       "    <tr>\n",
       "      <th>123039336</th>\n",
       "      <td>244900.0</td>\n",
       "      <td>1</td>\n",
       "      <td>1.00</td>\n",
       "      <td>8261</td>\n",
       "      <td>1.0</td>\n",
       "      <td>False</td>\n",
       "      <td>False</td>\n",
       "      <td>3</td>\n",
       "      <td>5</td>\n",
       "      <td>620</td>\n",
       "      <td>0.0</td>\n",
       "      <td>1939</td>\n",
       "      <td>False</td>\n",
       "      <td>False</td>\n",
       "      <td>December</td>\n",
       "      <td>-0.474576</td>\n",
       "      <td>319821.480243</td>\n",
       "    </tr>\n",
       "    <tr>\n",
       "      <th>251300110</th>\n",
       "      <td>225000.0</td>\n",
       "      <td>3</td>\n",
       "      <td>2.25</td>\n",
       "      <td>12013</td>\n",
       "      <td>2.0</td>\n",
       "      <td>False</td>\n",
       "      <td>False</td>\n",
       "      <td>3</td>\n",
       "      <td>8</td>\n",
       "      <td>2510</td>\n",
       "      <td>0.0</td>\n",
       "      <td>1988</td>\n",
       "      <td>False</td>\n",
       "      <td>False</td>\n",
       "      <td>July</td>\n",
       "      <td>0.342246</td>\n",
       "      <td>294996.183150</td>\n",
       "    </tr>\n",
       "    <tr>\n",
       "      <th>251300110</th>\n",
       "      <td>358000.0</td>\n",
       "      <td>3</td>\n",
       "      <td>2.25</td>\n",
       "      <td>12013</td>\n",
       "      <td>2.0</td>\n",
       "      <td>False</td>\n",
       "      <td>False</td>\n",
       "      <td>3</td>\n",
       "      <td>8</td>\n",
       "      <td>2510</td>\n",
       "      <td>0.0</td>\n",
       "      <td>1988</td>\n",
       "      <td>False</td>\n",
       "      <td>False</td>\n",
       "      <td>January</td>\n",
       "      <td>0.342246</td>\n",
       "      <td>294996.183150</td>\n",
       "    </tr>\n",
       "  </tbody>\n",
       "</table>\n",
       "</div>"
      ],
      "text/plain": [
       "              Price  Bedrooms  Bathrooms  Sqft_Lot  Floors Waterfront   View  \\\n",
       "id                                                                             \n",
       "1000102    280000.0         6       3.00      9373     2.0      False  False   \n",
       "1000102    300000.0         6       3.00      9373     2.0      False  False   \n",
       "7200179    150000.0         2       1.00     12750     1.0      False  False   \n",
       "7200179    175000.0         2       1.00     12750     1.0      False  False   \n",
       "109200390  245000.0         3       1.75      3900     1.0      False  False   \n",
       "109200390  250000.0         3       1.75      3900     1.0      False  False   \n",
       "123039336  148000.0         1       1.00      8261     1.0      False  False   \n",
       "123039336  244900.0         1       1.00      8261     1.0      False  False   \n",
       "251300110  225000.0         3       2.25     12013     2.0      False  False   \n",
       "251300110  358000.0         3       2.25     12013     2.0      False  False   \n",
       "\n",
       "           Condition  Grade  Sqft_Above  Sqft_Basement  Yr_Built Basement  \\\n",
       "id                                                                          \n",
       "1000102            3      7        2400            0.0      1991    False   \n",
       "1000102            3      7        2400            0.0      1991    False   \n",
       "7200179            3      6         840            0.0      1925    False   \n",
       "7200179            3      6         840            0.0      1925    False   \n",
       "109200390          4      7        1480            0.0      1980    False   \n",
       "109200390          4      7        1480            0.0      1980    False   \n",
       "123039336          3      5         620            0.0      1939    False   \n",
       "123039336          3      5         620            0.0      1939    False   \n",
       "251300110          3      8        2510            0.0      1988    False   \n",
       "251300110          3      8        2510            0.0      1988    False   \n",
       "\n",
       "          Renovated      Month  Living_Difference  Zipcode_Means  \n",
       "id                                                                \n",
       "1000102       False  September           0.165049  234512.742424  \n",
       "1000102       False      April           0.165049  234512.742424  \n",
       "7200179       False    October          -0.432432  304805.727969  \n",
       "7200179       False      April          -0.432432  304805.727969  \n",
       "109200390     False     August          -0.191257  283932.361570  \n",
       "109200390     False    October          -0.191257  283932.361570  \n",
       "123039336     False       June          -0.474576  319821.480243  \n",
       "123039336     False   December          -0.474576  319821.480243  \n",
       "251300110     False       July           0.342246  294996.183150  \n",
       "251300110     False    January           0.342246  294996.183150  "
      ]
     },
     "execution_count": 36,
     "metadata": {},
     "output_type": "execute_result"
    }
   ],
   "source": [
    "copies = pd.concat(g for _, g in kc.groupby(\"id\") if len(g) > 1)\n",
    "copies.head(10)"
   ]
  },
  {
   "cell_type": "code",
   "execution_count": 37,
   "metadata": {},
   "outputs": [
    {
     "name": "stdout",
     "output_type": "stream",
     "text": [
      "<class 'pandas.core.frame.DataFrame'>\n",
      "Int64Index: 345 entries, 1000102 to 9834200885\n",
      "Data columns (total 17 columns):\n",
      "Price                345 non-null float64\n",
      "Bedrooms             345 non-null int64\n",
      "Bathrooms            345 non-null float64\n",
      "Sqft_Lot             345 non-null int64\n",
      "Floors               345 non-null float64\n",
      "Waterfront           345 non-null category\n",
      "View                 345 non-null category\n",
      "Condition            345 non-null int64\n",
      "Grade                345 non-null int64\n",
      "Sqft_Above           345 non-null int64\n",
      "Sqft_Basement        345 non-null float64\n",
      "Yr_Built             345 non-null int64\n",
      "Basement             345 non-null category\n",
      "Renovated            345 non-null category\n",
      "Month                345 non-null category\n",
      "Living_Difference    345 non-null float64\n",
      "Zipcode_Means        345 non-null float64\n",
      "dtypes: category(5), float64(6), int64(6)\n",
      "memory usage: 37.5 KB\n"
     ]
    }
   ],
   "source": [
    "copies.info()"
   ]
  },
  {
   "cell_type": "markdown",
   "metadata": {},
   "source": [
    "There are 345 duplicate ids, though they are not duplicate entries. It appears that these entries correspond to houses that were purchased and sold within the same calendar year. Some duplicates sold for similar prices, while other duplicates sold for wildly different prices. A large increase in price might correspond with a house that was \"flipped\". Since there are so few duplicates, I will delete every duplicate entry. This might reduce error in the model that would otherwise arise from not having enough data on whether a house was flipped or not."
   ]
  },
  {
   "cell_type": "code",
   "execution_count": 38,
   "metadata": {},
   "outputs": [],
   "source": [
    "kc = kc.reset_index().drop_duplicates(subset = 'id', keep = False)\n",
    "kc['id'] = kc.id.astype('int')\n",
    "kc = kc.set_index('id')"
   ]
  },
  {
   "cell_type": "markdown",
   "metadata": {},
   "source": [
    "### 3.2\n",
    "Throughout this general investigation I will pose questions to drive my process. There will likely be other questions that come up in the process of the exploration that are not documented, but nonetheless my mental model of the data will improve.\n",
    "<br>\n",
    "#### 3.2.1 Exploring Categorical Features with Violin Plots\n",
    "In general, I'm interested to see if there is a significantly different mean price in a given category. By looking at two categories together I can also see the impact that one category has on another.\n",
    "\n",
    "A few driving questions include:\n",
    "1. **Which category has the most significant difference in price between values?**\n",
    "2. **Are there months that are better for buyers and sellers?**\n",
    "3. **Are prices higher, lower, or the same if a house has previously been viewed?**"
   ]
  },
  {
   "cell_type": "code",
   "execution_count": 39,
   "metadata": {},
   "outputs": [],
   "source": [
    "feature_list = list(kc.select_dtypes('category').columns)\n",
    "hue_list = feature_list.copy()\n",
    "hue_list.append('None')"
   ]
  },
  {
   "cell_type": "code",
   "execution_count": 40,
   "metadata": {},
   "outputs": [
    {
     "data": {
      "application/vnd.jupyter.widget-view+json": {
       "model_id": "c096cf2bd0e14792a8b13e29e845e04d",
       "version_major": 2,
       "version_minor": 0
      },
      "text/plain": [
       "interactive(children=(Dropdown(description='x', options=('Waterfront', 'View', 'Basement', 'Renovated', 'Month…"
      ]
     },
     "metadata": {},
     "output_type": "display_data"
    }
   ],
   "source": [
    "@interact\n",
    "def violin_plot(x=feature_list, \n",
    "                yscale = ['log', 'linear'],\n",
    "                hue = hue_list):\n",
    "    \n",
    "    # Select Hue to add depth to violin plots\n",
    "    if (hue != 'None') & (hue != x):\n",
    "        title = \"Price vs. \" + x + \" sorted by \" + hue\n",
    "        hue = kc[hue]\n",
    "    else:\n",
    "        hue = None\n",
    "        title = \"Price vs. \" + x\n",
    "    \n",
    "    # Plot Data\n",
    "    fig, ax = plt.subplots(1,1,figsize = (12,8))\n",
    "    sns.set_context(\"paper\")\n",
    "    sns.set_style('darkgrid')\n",
    "    plot = sns.violinplot(x = kc[x], \n",
    "                           y = kc.Price, \n",
    "                           cut = 0,\n",
    "                           scale = 'area',\n",
    "                           inner = 'box',\n",
    "                           hue = hue,\n",
    "                           split = True,\n",
    "                           ax = ax)\n",
    "    plt.yscale(yscale)\n",
    "    plt.title(title, fontsize = 16)\n",
    "    plt.show()"
   ]
  },
  {
   "cell_type": "markdown",
   "metadata": {},
   "source": [
    "1. It appears that Waterfront has the biggest impact on price. The average price of a house on the waterfront is about \\$1,000,000 more than the average price of a house otherwise.\n",
    "2. It's hard to tell from the violin plots if there is a significant difference in price at different times of the year. The rolling window that we calculated before showed that there was, so I will leave it to MLR to determine if it is significant enough.\n",
    "3. Surprisingly, house prices are *higher* is the house has been viewed."
   ]
  },
  {
   "cell_type": "markdown",
   "metadata": {},
   "source": [
    "#### 3.2.2  Distributions of Numerical Features\n",
    "I'm most interested in seeing which variables I should consider discrete, and which variable I should consider continuous. For the continuous variables I would like to know if they are normally distributed or if they should be transformed to be normally distributed. One question that I certainly have is, **Is log(price) normally distributed?**. I saw that Living_difference had a more linear shape against log(Price), so I'm curious to know what its distribution is."
   ]
  },
  {
   "cell_type": "code",
   "execution_count": 41,
   "metadata": {
    "scrolled": false
   },
   "outputs": [
    {
     "data": {
      "application/vnd.jupyter.widget-view+json": {
       "model_id": "d82b4a204ccf439f872490e1f2e35476",
       "version_major": 2,
       "version_minor": 0
      },
      "text/plain": [
       "interactive(children=(Dropdown(description='data', options=('Price', 'Bedrooms', 'Bathrooms', 'Sqft_Lot', 'Flo…"
      ]
     },
     "metadata": {},
     "output_type": "display_data"
    }
   ],
   "source": [
    "@interact\n",
    "def hist_plot(data = list(kc.select_dtypes(include = [np.number]).columns),\n",
    "             log_data = [False, True]):\n",
    "    data_label = data\n",
    "    \n",
    "    # Transform Data if Necessary.\n",
    "    if log_data:\n",
    "        if kc[data].min() < 0:\n",
    "            data = kc[data] + np.abs(kc[data].min()) + 0.01\n",
    "            data = data.apply(np.log10)\n",
    "        else:\n",
    "            data = kc[data].replace(0,0.1)\n",
    "            data = data.apply(np.log10)\n",
    "    else:\n",
    "        data = kc[data]\n",
    "    # Plot Data\n",
    "    fig, ax = plt.subplots(1,1,figsize = (12,8))\n",
    "    title = \"Distribution of \" + data_label\n",
    "    sns.distplot(data,\n",
    "                 ax = ax)\n",
    "    plt.title(title)\n",
    "    plt.show()"
   ]
  },
  {
   "cell_type": "markdown",
   "metadata": {},
   "source": [
    "Price, Sqft_Lot, Sqft_Above, Sqft_Basement, and Living_Difference all behave as continuous predictors, like expected. The remainder are discrete predictors. Log(Price) is certainly more normal than Price, so I'll likely end up transforming it later on."
   ]
  },
  {
   "cell_type": "markdown",
   "metadata": {},
   "source": [
    "#### 3.2.3 Exploring Relationships of Numerical Features using Scatter Plots\n",
    "There are two separate explorations that I want to perform: one for the discrete data and one for the continuous data. The driving question here is, **What transformations are necessary so that there is a linear relationship between a predictor and the target?**\n",
    "<br>\n",
    "One thing that I'm curious to explore are fits for discrete data based on the median at each value. This will give me a better sense of the function that best fits each curve, which I can leverage to linearize the data before I run MLS. I can use this technique if I assume that the distgribution of the target data for each discrete value of a predictor has the same shape.\n",
    "<br>\n",
    "For both explorations I will calculate and print the correlation between the variables in order to make a decision about how best to linearize the data."
   ]
  },
  {
   "cell_type": "code",
   "execution_count": 42,
   "metadata": {},
   "outputs": [],
   "source": [
    "discrete_predictors = ['Bedrooms','Bathrooms','Floors','Condition','Grade','Yr_Built','Zipcode_Means']\n",
    "continuous_predictors = [ 'Sqft_Lot', 'Sqft_Above', 'Sqft_Basement', 'Living_Difference']"
   ]
  },
  {
   "cell_type": "code",
   "execution_count": 43,
   "metadata": {},
   "outputs": [
    {
     "data": {
      "application/vnd.jupyter.widget-view+json": {
       "model_id": "70ec26cae0c14f8da42cce0a8ab404de",
       "version_major": 2,
       "version_minor": 0
      },
      "text/plain": [
       "interactive(children=(Dropdown(description='x', options=('Bedrooms', 'Bathrooms', 'Floors', 'Condition', 'Grad…"
      ]
     },
     "metadata": {},
     "output_type": "display_data"
    }
   ],
   "source": [
    "@interact\n",
    "def discrete_plot(x = discrete_predictors,\n",
    "                  y_function = ['linear', 'log'],\n",
    "                  x_function = ['linear', 'log', 'squared', 'square-root', 'exp'],\n",
    "                  yr_shift = (1950,1970,.25),\n",
    "                  quantile = (0.1,0.9,0.05)):\n",
    "    \n",
    "    # Find the value at a specific quantile\n",
    "    df = pd.DataFrame(kc.groupby(x).Price.quantile(quantile)).reset_index()\n",
    "    xlabel = x\n",
    "    x = df[x]\n",
    "    y = df.Price\n",
    "    \n",
    "    # Transform the data\n",
    "    def function_mapping(data, function):\n",
    "        function_map = {'linear':data,\n",
    "                            'log':data.apply(np.log10), \n",
    "                            'squared':data.apply(np.square),\n",
    "                            'square-root':(data-yr_shift).apply(np.lib.scimath.sqrt).apply(np.abs), \n",
    "                            'exp':data.apply(np.exp)}\n",
    "        return function_map[function]\n",
    "    \n",
    "    x = function_mapping(x,x_function)\n",
    "    y = function_mapping(y,y_function)\n",
    "    \n",
    "    # Plot and show labels\n",
    "    fig, ax = plt.subplots(1,1,figsize = (12,8))\n",
    "    corr = np.corrcoef(x,y)\n",
    "    corr_text = 'corr: {:1.3f}'.format(corr[1,0])\n",
    "    sns.scatterplot(x = x, y = y, s = 100)\n",
    "    plt.text(.025, \n",
    "             0.95, \n",
    "             corr_text, \n",
    "             horizontalalignment='left',\n",
    "             verticalalignment='top',\n",
    "             fontsize = 16,\n",
    "             transform=ax.transAxes)\n",
    "    ylabel = str(quantile*100) + 'th percentile Price'\n",
    "    plt.ylabel(ylabel,fontdict = {'size':14})\n",
    "    plt.xlabel(xlabel,fontdict = {'size':14})\n",
    "    title = ylabel +  ' vs ' + xlabel\n",
    "    plt.title(title, fontdict = {'size':16})\n",
    "    plt.show()\n",
    "    "
   ]
  },
  {
   "cell_type": "markdown",
   "metadata": {},
   "source": [
    "It appears that taking the log of the price data helps linearize overall. This also helps because the distribution of the price data is normal when it is log transformed. The following relationships have the best correlation values and dont produce a pattern in the residuals:"
   ]
  },
  {
   "cell_type": "markdown",
   "metadata": {},
   "source": [
    "| Linear Relationship                 | Correlation Value |\n",
    "| ---------------------------- | :---------------: |\n",
    "| log(Price) ~ log(Bedrooms)   | 0.871             |\n",
    "| log(Price) ~ Bathrooms       | 0.864             |\n",
    "| log(Price) ~ Condition       | 0.931             |  \n",
    "| log(Price) ~ $Grade^2$       | 0.998             |\n",
    "| log(Price) ~ $\\sqrt{Yr\\_Built-1961.5}$ | 0.709    |\n",
    "| log(Price) ~ log(Zipcode)    | 0.992             |"
   ]
  },
  {
   "cell_type": "markdown",
   "metadata": {},
   "source": [
    "Floors had huge variability depending on the quantile that was used, so the assumption that I'm using doesn't hold true."
   ]
  },
  {
   "cell_type": "code",
   "execution_count": 44,
   "metadata": {},
   "outputs": [
    {
     "data": {
      "application/vnd.jupyter.widget-view+json": {
       "model_id": "a290e4631fb0456fa26bc827f19865fa",
       "version_major": 2,
       "version_minor": 0
      },
      "text/plain": [
       "interactive(children=(Dropdown(description='x', options=('Sqft_Lot', 'Sqft_Above', 'Sqft_Basement', 'Living_Di…"
      ]
     },
     "metadata": {},
     "output_type": "display_data"
    }
   ],
   "source": [
    "@interact\n",
    "def scatter_plot(x = continuous_predictors,\n",
    "                 x_function = ['linear', 'log', 'squared', 'square-root', 'exp'],\n",
    "                 hue = ['None', 'Waterfront', 'View', 'Basement', 'Renovated']):\n",
    "    \n",
    "    fig, ax = plt.subplots(1,1,figsize = (12,8))\n",
    "    def function_mapping(data, function):\n",
    "        function_map = {'linear':data,\n",
    "                            'log':data.apply(np.log10), \n",
    "                            'squared':data.apply(np.square),\n",
    "                            'square-root':data.apply(np.sqrt), \n",
    "                            'exp':data.apply(np.exp)}\n",
    "        return function_map[function]\n",
    "    x_data = kc[x] + np.abs(kc[x].min()) + 0.001\n",
    "    x_data = function_mapping(x_data,x_function)\n",
    "    y_data = kc.Price\n",
    "    y_data = y_data.apply(np.log10)\n",
    "        \n",
    "    if (hue != 'None'):\n",
    "        hue = kc[hue]\n",
    "    else:\n",
    "        hue = None\n",
    "    \n",
    "    corr = np.corrcoef(x_data,y_data)\n",
    "    corr_text = 'corr: {:1.3f}'.format(corr[1,0])\n",
    "    plt.text(.025, \n",
    "             0.95, \n",
    "             corr_text, \n",
    "             horizontalalignment='left',\n",
    "             verticalalignment='top',\n",
    "             fontsize = 16,\n",
    "             transform=ax.transAxes)\n",
    "    \n",
    "    sns.scatterplot(x = x_data, y = y_data, hue = hue, ax=ax)\n",
    "    plt.show()"
   ]
  },
  {
   "cell_type": "markdown",
   "metadata": {},
   "source": [
    "While not transforming the predictors yields the best correlation values, I'm concerned that there will be a non-random pattern in the residuals if they're left alone. Log transforming Sqft_Above and taking the square root of Sqft_Basement is more likely to yield a random residual pattern in both. This relationship and the correlation values is shown below."
   ]
  },
  {
   "cell_type": "markdown",
   "metadata": {},
   "source": [
    "|Linear Relationship|Correlation Value|\n",
    "|---|---|\n",
    "|log(Price) ~ log(Sqft Above)| 0.586 |\n",
    "|log(Price) ~ $\\sqrt{SqftBasement}$ | 0.374 |\n",
    "|log(Price) ~ $\\sqrt{Living Difference}$ | 0.310 |"
   ]
  },
  {
   "cell_type": "markdown",
   "metadata": {},
   "source": [
    "The correlation for Sqft_Lot is so low that I don't think it's worth it to include it in the model. "
   ]
  },
  {
   "cell_type": "markdown",
   "metadata": {},
   "source": [
    "#### 3.2.4 Correlations of Numerical Features\n",
    "I can investigate the best correlations now that I know the transformations to make each predictor as linear as possible to the target. I will create a function to make a new dataframe with the linearized data, and then I will look at the correlation matrix."
   ]
  },
  {
   "cell_type": "markdown",
   "metadata": {},
   "source": [
    "| Linear Relationship                 | Correlation Value |\n",
    "| ---------------------------- | :---------------: |\n",
    "| log(Price) ~ log(Bedrooms)   | 0.871             |\n",
    "| log(Price) ~ Bathrooms       | 0.864             |\n",
    "| log(Price) ~ Condition       | 0.931             |  \n",
    "| log(Price) ~ $Grade^2$       | 0.998             |\n",
    "| log(Price) ~ $\\sqrt{Yr\\_Built-1961.5}$ | 0.709    |\n",
    "| log(Price) ~ log(Zipcode)    | 0.992             |\n",
    "|log(Price) ~ log(Sqft Above)| 0.586 |\n",
    "|log(Price) ~ $\\sqrt{SqftBasement}$ | 0.374 |\n",
    "|log(Price) ~ $\\sqrt{Living Difference}$ | 0.310 |"
   ]
  },
  {
   "cell_type": "code",
   "execution_count": 45,
   "metadata": {},
   "outputs": [],
   "source": [
    "def transform_data(df):\n",
    "    df_transformed = df.copy()\n",
    "    transform = {'Price':np.log10,\n",
    "                 'Bedrooms':np.log10,  \n",
    "                 'Grade':np.square,\n",
    "                 'Sqft_Above':np.log10, \n",
    "                 'Sqft_Basement':np.sqrt,\n",
    "                 'Zipcode_Means':np.log10}\n",
    "    \n",
    "    # For simple transformations\n",
    "    for column in list(df.columns):\n",
    "        if column in transform.keys():\n",
    "            df_transformed[column] = df_transformed[column].apply(transform[column])\n",
    "    \n",
    "    # Transform Living Difference\n",
    "    df_transformed['Living_Difference'] = df_transformed.Living_Difference + np.abs(df_transformed.Living_Difference.min())\n",
    "    df_transformed['Living_Difference'] = df_transformed.Living_Difference.apply(np.sqrt)\n",
    "    \n",
    "    # Transform Yr_Built\n",
    "    df_transformed.Yr_Built = (df_transformed.Yr_Built-1961.5).apply(np.lib.scimath.sqrt).apply(np.abs)\n",
    "    \n",
    "    return df_transformed\n",
    "    "
   ]
  },
  {
   "cell_type": "code",
   "execution_count": 46,
   "metadata": {},
   "outputs": [
    {
     "data": {
      "image/png": "[encoded data removed]",
      "text/plain": [
       "<Figure size 792x648 with 2 Axes>"
      ]
     },
     "metadata": {},
     "output_type": "display_data"
    }
   ],
   "source": [
    "sns.set_style('white')\n",
    "corr = transform_data(kc.drop(labels = 'Price', axis = 1)).corr()\n",
    "mask = np.zeros_like(corr, dtype=np.bool)\n",
    "mask[np.triu_indices_from(mask)] = True\n",
    "f, ax = plt.subplots(figsize=(11, 9))\n",
    "cmap = sns.diverging_palette(220, 10, as_cmap=True)\n",
    "sns.heatmap(corr, mask=mask, cmap=cmap, vmax=.5, vmin = -0.5, center=0,\n",
    "            square=True, linewidths=.5, cbar_kws={\"shrink\": .5}, annot = True)\n",
    "plt.show()\n",
    "sns.set_style()"
   ]
  },
  {
   "cell_type": "markdown",
   "metadata": {},
   "source": [
    "The correlation matrix does show that many of these variables correlate with each other. I'm not surprised by this. After all, a more expensive house tends to have more bedrooms, bathrooms, space, and floors. Additionally, it is likely to have a higher grade and be newer. So, those things tend to go together and intuitively they will be correlated.\n",
    "\n",
    "I'll look at just the correlations between Price and the predictors in order to focus on the most important information."
   ]
  },
  {
   "cell_type": "code",
   "execution_count": 47,
   "metadata": {},
   "outputs": [
    {
     "data": {
      "text/plain": [
       "Price                1.000000\n",
       "Zipcode_Means        0.726420\n",
       "Grade                0.702644\n",
       "Sqft_Above           0.584934\n",
       "Bathrooms            0.549621\n",
       "Bedrooms             0.343768\n",
       "Living_Difference    0.310534\n",
       "Floors               0.307190\n",
       "Sqft_Basement        0.277941\n",
       "Yr_Built             0.212920\n",
       "Sqft_Lot             0.097665\n",
       "Condition            0.033248\n",
       "Name: Price, dtype: float64"
      ]
     },
     "execution_count": 47,
     "metadata": {},
     "output_type": "execute_result"
    }
   ],
   "source": [
    "transform_data(kc).corr().Price.sort_values(ascending = False)"
   ]
  },
  {
   "cell_type": "markdown",
   "metadata": {},
   "source": [
    "### 3.3 \n",
    "#### 3.3.1 Dropping Data\n",
    "Now I have to make some decisions about which numerical series to drop. Given the correlations between price and the colinearity between predictors, I will drop Condition, Sqft_Lot, and Floors. I am dropping floors since it is highly correlated with Sqft_Above, and keeping Yr_Built since it is the next best correlated value that doesn't have significant colinearity. I will let RFE handle the rest, or get rid of them by hand at the end."
   ]
  },
  {
   "cell_type": "code",
   "execution_count": 48,
   "metadata": {},
   "outputs": [],
   "source": [
    "kc.drop(labels = ['Condition', 'Sqft_Lot','Floors'], axis = 1, inplace = True)"
   ]
  },
  {
   "cell_type": "markdown",
   "metadata": {},
   "source": [
    "#### 3.3.2 One-hot encoding"
   ]
  },
  {
   "cell_type": "markdown",
   "metadata": {},
   "source": [
    "This is fairly straight forward. I am one-hot encoding months since it is the only category with more than one value."
   ]
  },
  {
   "cell_type": "code",
   "execution_count": 49,
   "metadata": {},
   "outputs": [],
   "source": [
    "month_dummies = pd.get_dummies(kc.Month)\n",
    "kc = kc.join(month_dummies,on = 'id')\n",
    "kc.drop(labels = ['Month'], axis = 1, inplace = True)"
   ]
  },
  {
   "cell_type": "markdown",
   "metadata": {},
   "source": [
    "I will also drop the last month, September, since it is encoded in the other month variables (if not every other month, then it must be September). This will ensure that statsmodel doesn't inject another intercept unknowingly. "
   ]
  },
  {
   "cell_type": "code",
   "execution_count": 50,
   "metadata": {},
   "outputs": [],
   "source": [
    "kc.drop(labels = 'September', axis = 1, inplace = True)"
   ]
  },
  {
   "cell_type": "markdown",
   "metadata": {},
   "source": [
    "#### 3.6 Converting categorical data to uint8\n",
    "This is a silly step, but I have discovered that statsmodel behaves strangely when categorical data is passed to it. Statsmodel calculates an intercept when categorical data is passed into statsmodel appropriately even if the intercept has been explicitly removed."
   ]
  },
  {
   "cell_type": "code",
   "execution_count": 51,
   "metadata": {},
   "outputs": [],
   "source": [
    "columns = kc.select_dtypes('category')\n",
    "for column in columns:\n",
    "    kc[column] = kc[column].astype('uint8')"
   ]
  },
  {
   "cell_type": "code",
   "execution_count": 52,
   "metadata": {},
   "outputs": [
    {
     "name": "stdout",
     "output_type": "stream",
     "text": [
      "<class 'pandas.core.frame.DataFrame'>\n",
      "Int64Index: 20735 entries, 7129300520 to 1523300157\n",
      "Data columns (total 24 columns):\n",
      "Price                20735 non-null float64\n",
      "Bedrooms             20735 non-null int64\n",
      "Bathrooms            20735 non-null float64\n",
      "Waterfront           20735 non-null uint8\n",
      "View                 20735 non-null uint8\n",
      "Grade                20735 non-null int64\n",
      "Sqft_Above           20735 non-null int64\n",
      "Sqft_Basement        20735 non-null float64\n",
      "Yr_Built             20735 non-null int64\n",
      "Basement             20735 non-null uint8\n",
      "Renovated            20735 non-null uint8\n",
      "Living_Difference    20735 non-null float64\n",
      "Zipcode_Means        20735 non-null float64\n",
      "April                20735 non-null uint8\n",
      "August               20735 non-null uint8\n",
      "December             20735 non-null uint8\n",
      "February             20735 non-null uint8\n",
      "January              20735 non-null uint8\n",
      "July                 20735 non-null uint8\n",
      "June                 20735 non-null uint8\n",
      "March                20735 non-null uint8\n",
      "May                  20735 non-null uint8\n",
      "November             20735 non-null uint8\n",
      "October              20735 non-null uint8\n",
      "dtypes: float64(5), int64(4), uint8(15)\n",
      "memory usage: 2.5 MB\n"
     ]
    }
   ],
   "source": [
    "kc.info()"
   ]
  },
  {
   "cell_type": "markdown",
   "metadata": {},
   "source": [
    "<a id=\"4\"></a>\n",
    "## 4. Modeling Data"
   ]
  },
  {
   "cell_type": "code",
   "execution_count": 53,
   "metadata": {},
   "outputs": [],
   "source": [
    "import statsmodels.formula.api as smf\n",
    "import statsmodels.api as sm"
   ]
  },
  {
   "cell_type": "markdown",
   "metadata": {},
   "source": [
    "First, I'll transform the data based on the analysis that I performed above."
   ]
  },
  {
   "cell_type": "code",
   "execution_count": 54,
   "metadata": {},
   "outputs": [],
   "source": [
    "kc_transformed = transform_data(kc) # Check out that handy use of the function"
   ]
  },
  {
   "cell_type": "markdown",
   "metadata": {},
   "source": [
    "I will normalize the data since the range for each column is significantly different from the others."
   ]
  },
  {
   "cell_type": "code",
   "execution_count": 55,
   "metadata": {},
   "outputs": [
    {
     "data": {
      "text/html": [
       "<div>\n",
       "<style scoped>\n",
       "    .dataframe tbody tr th:only-of-type {\n",
       "        vertical-align: middle;\n",
       "    }\n",
       "\n",
       "    .dataframe tbody tr th {\n",
       "        vertical-align: top;\n",
       "    }\n",
       "\n",
       "    .dataframe thead th {\n",
       "        text-align: right;\n",
       "    }\n",
       "</style>\n",
       "<table border=\"1\" class=\"dataframe\">\n",
       "  <thead>\n",
       "    <tr style=\"text-align: right;\">\n",
       "      <th></th>\n",
       "      <th>Price</th>\n",
       "      <th>Bedrooms</th>\n",
       "      <th>Bathrooms</th>\n",
       "      <th>Waterfront</th>\n",
       "      <th>View</th>\n",
       "      <th>Grade</th>\n",
       "      <th>Sqft_Above</th>\n",
       "      <th>Sqft_Basement</th>\n",
       "      <th>Yr_Built</th>\n",
       "      <th>Basement</th>\n",
       "      <th>...</th>\n",
       "      <th>August</th>\n",
       "      <th>December</th>\n",
       "      <th>February</th>\n",
       "      <th>January</th>\n",
       "      <th>July</th>\n",
       "      <th>June</th>\n",
       "      <th>March</th>\n",
       "      <th>May</th>\n",
       "      <th>November</th>\n",
       "      <th>October</th>\n",
       "    </tr>\n",
       "  </thead>\n",
       "  <tbody>\n",
       "    <tr>\n",
       "      <th>min</th>\n",
       "      <td>0.0</td>\n",
       "      <td>0.0</td>\n",
       "      <td>0.0</td>\n",
       "      <td>0.0</td>\n",
       "      <td>0.0</td>\n",
       "      <td>0.0</td>\n",
       "      <td>0.0</td>\n",
       "      <td>0.0</td>\n",
       "      <td>0.0</td>\n",
       "      <td>0.0</td>\n",
       "      <td>...</td>\n",
       "      <td>0.0</td>\n",
       "      <td>0.0</td>\n",
       "      <td>0.0</td>\n",
       "      <td>0.0</td>\n",
       "      <td>0.0</td>\n",
       "      <td>0.0</td>\n",
       "      <td>0.0</td>\n",
       "      <td>0.0</td>\n",
       "      <td>0.0</td>\n",
       "      <td>0.0</td>\n",
       "    </tr>\n",
       "    <tr>\n",
       "      <th>max</th>\n",
       "      <td>1.0</td>\n",
       "      <td>1.0</td>\n",
       "      <td>1.0</td>\n",
       "      <td>1.0</td>\n",
       "      <td>1.0</td>\n",
       "      <td>1.0</td>\n",
       "      <td>1.0</td>\n",
       "      <td>1.0</td>\n",
       "      <td>1.0</td>\n",
       "      <td>1.0</td>\n",
       "      <td>...</td>\n",
       "      <td>1.0</td>\n",
       "      <td>1.0</td>\n",
       "      <td>1.0</td>\n",
       "      <td>1.0</td>\n",
       "      <td>1.0</td>\n",
       "      <td>1.0</td>\n",
       "      <td>1.0</td>\n",
       "      <td>1.0</td>\n",
       "      <td>1.0</td>\n",
       "      <td>1.0</td>\n",
       "    </tr>\n",
       "  </tbody>\n",
       "</table>\n",
       "<p>2 rows × 24 columns</p>\n",
       "</div>"
      ],
      "text/plain": [
       "     Price  Bedrooms  Bathrooms  Waterfront  View  Grade  Sqft_Above  \\\n",
       "min    0.0       0.0        0.0         0.0   0.0    0.0         0.0   \n",
       "max    1.0       1.0        1.0         1.0   1.0    1.0         1.0   \n",
       "\n",
       "     Sqft_Basement  Yr_Built  Basement   ...     August  December  February  \\\n",
       "min            0.0       0.0       0.0   ...        0.0       0.0       0.0   \n",
       "max            1.0       1.0       1.0   ...        1.0       1.0       1.0   \n",
       "\n",
       "     January  July  June  March  May  November  October  \n",
       "min      0.0   0.0   0.0    0.0  0.0       0.0      0.0  \n",
       "max      1.0   1.0   1.0    1.0  1.0       1.0      1.0  \n",
       "\n",
       "[2 rows x 24 columns]"
      ]
     },
     "execution_count": 55,
     "metadata": {},
     "output_type": "execute_result"
    }
   ],
   "source": [
    "kc_transformed_scaled = kc_transformed.copy()\n",
    "to_scale = kc_transformed_scaled.select_dtypes(include = [np.number]).columns\n",
    "for column in list(to_scale):\n",
    "    data = kc_transformed_scaled[column]\n",
    "    kc_transformed_scaled[column] = (data - data.min())/(data.max()-data.min())\n",
    "kc_transformed_scaled.agg(['min', 'max'])"
   ]
  },
  {
   "cell_type": "markdown",
   "metadata": {},
   "source": [
    "Wonderful! Now I can build the model using the transformed and scaled data. I'll make training and testing sets to work with from now on. First I'll make the formula."
   ]
  },
  {
   "cell_type": "code",
   "execution_count": 56,
   "metadata": {},
   "outputs": [
    {
     "name": "stdout",
     "output_type": "stream",
     "text": [
      "Price ~ Bedrooms + Bathrooms + Waterfront + View + Grade + Sqft_Above + Sqft_Basement + Yr_Built + Basement + Renovated + Living_Difference + Zipcode_Means + April + August + December + February + January + July + June + March + May + November + October - 1\n",
      "23\n"
     ]
    }
   ],
   "source": [
    "predictors = kc_transformed_scaled.drop(labels = 'Price', axis = 1).copy()\n",
    "target = kc_transformed_scaled.Price.copy()\n",
    "predictor_list = list(predictors.columns)\n",
    "formula = 'Price ~ ' + ' + '.join(list(predictors.columns)) + ' - 1'\n",
    "print(formula)\n",
    "print(len(predictors.columns))"
   ]
  },
  {
   "cell_type": "markdown",
   "metadata": {},
   "source": [
    "This formula accounts for all 23 predictors. I'm concerned about two things: 1) this is way too many predictors, so the model may not be sensical, and 2) there is likely still correlation between predictors. It will be easy to see if there are indeed to many predictors - the model will have some predictors whose coefficients are not statistically significant if too many predictors are confounding the results. It should also be easy to see if correlation between predictors is causing a problem by checking the values of the coefficients against our understanding of the problem. For example, we know that more bedrooms, more bathrooms, and more space indicate a higher price. If any of these coefficients are negative, then it stands to reason that interactions between the predictors is causing a problem in the model. I'll perform a multiple linear regression and look at the outputs.\n",
    "\n",
    "The train/test set is made below."
   ]
  },
  {
   "cell_type": "code",
   "execution_count": 57,
   "metadata": {},
   "outputs": [],
   "source": [
    "from sklearn.model_selection import train_test_split\n",
    "\n",
    "predictor_train, predictor_test, target_train, target_test = train_test_split(\n",
    "    predictors, target, test_size=0.20, random_state=42) # Seed with 42 for reproducibility"
   ]
  },
  {
   "cell_type": "code",
   "execution_count": 58,
   "metadata": {},
   "outputs": [
    {
     "data": {
      "text/html": [
       "<table class=\"simpletable\">\n",
       "<caption>OLS Regression Results</caption>\n",
       "<tr>\n",
       "  <th>Dep. Variable:</th>          <td>Price</td>      <th>  R-squared:         </th>  <td>   0.987</td> \n",
       "</tr>\n",
       "<tr>\n",
       "  <th>Model:</th>                   <td>OLS</td>       <th>  Adj. R-squared:    </th>  <td>   0.987</td> \n",
       "</tr>\n",
       "<tr>\n",
       "  <th>Method:</th>             <td>Least Squares</td>  <th>  F-statistic:       </th>  <td>5.447e+04</td>\n",
       "</tr>\n",
       "<tr>\n",
       "  <th>Date:</th>             <td>Wed, 13 Mar 2019</td> <th>  Prob (F-statistic):</th>   <td>  0.00</td>  \n",
       "</tr>\n",
       "<tr>\n",
       "  <th>Time:</th>                 <td>13:42:44</td>     <th>  Log-Likelihood:    </th>  <td>  27383.</td> \n",
       "</tr>\n",
       "<tr>\n",
       "  <th>No. Observations:</th>      <td> 16588</td>      <th>  AIC:               </th> <td>-5.472e+04</td>\n",
       "</tr>\n",
       "<tr>\n",
       "  <th>Df Residuals:</th>          <td> 16565</td>      <th>  BIC:               </th> <td>-5.454e+04</td>\n",
       "</tr>\n",
       "<tr>\n",
       "  <th>Df Model:</th>              <td>    23</td>      <th>                     </th>      <td> </td>    \n",
       "</tr>\n",
       "<tr>\n",
       "  <th>Covariance Type:</th>      <td>nonrobust</td>    <th>                     </th>      <td> </td>    \n",
       "</tr>\n",
       "</table>\n",
       "<table class=\"simpletable\">\n",
       "<tr>\n",
       "          <td></td>             <th>coef</th>     <th>std err</th>      <th>t</th>      <th>P>|t|</th>  <th>[0.025</th>    <th>0.975]</th>  \n",
       "</tr>\n",
       "<tr>\n",
       "  <th>Bedrooms</th>          <td>    0.0174</td> <td>    0.004</td> <td>    4.355</td> <td> 0.000</td> <td>    0.010</td> <td>    0.025</td>\n",
       "</tr>\n",
       "<tr>\n",
       "  <th>Bathrooms</th>         <td>   -0.0551</td> <td>    0.006</td> <td>   -9.594</td> <td> 0.000</td> <td>   -0.066</td> <td>   -0.044</td>\n",
       "</tr>\n",
       "<tr>\n",
       "  <th>Waterfront</th>        <td>    0.1202</td> <td>    0.005</td> <td>   25.885</td> <td> 0.000</td> <td>    0.111</td> <td>    0.129</td>\n",
       "</tr>\n",
       "<tr>\n",
       "  <th>View</th>              <td>    0.0424</td> <td>    0.001</td> <td>   31.882</td> <td> 0.000</td> <td>    0.040</td> <td>    0.045</td>\n",
       "</tr>\n",
       "<tr>\n",
       "  <th>Grade</th>             <td>    0.1993</td> <td>    0.005</td> <td>   39.789</td> <td> 0.000</td> <td>    0.189</td> <td>    0.209</td>\n",
       "</tr>\n",
       "<tr>\n",
       "  <th>Sqft_Above</th>        <td>    0.2772</td> <td>    0.006</td> <td>   44.755</td> <td> 0.000</td> <td>    0.265</td> <td>    0.289</td>\n",
       "</tr>\n",
       "<tr>\n",
       "  <th>Sqft_Basement</th>     <td>    0.0987</td> <td>    0.006</td> <td>   16.791</td> <td> 0.000</td> <td>    0.087</td> <td>    0.110</td>\n",
       "</tr>\n",
       "<tr>\n",
       "  <th>Yr_Built</th>          <td>    0.0343</td> <td>    0.002</td> <td>   22.341</td> <td> 0.000</td> <td>    0.031</td> <td>    0.037</td>\n",
       "</tr>\n",
       "<tr>\n",
       "  <th>Basement</th>          <td>    0.0041</td> <td>    0.002</td> <td>    1.845</td> <td> 0.065</td> <td>   -0.000</td> <td>    0.008</td>\n",
       "</tr>\n",
       "<tr>\n",
       "  <th>Renovated</th>         <td>    0.0220</td> <td>    0.002</td> <td>   11.079</td> <td> 0.000</td> <td>    0.018</td> <td>    0.026</td>\n",
       "</tr>\n",
       "<tr>\n",
       "  <th>Living_Difference</th> <td>    0.0882</td> <td>    0.006</td> <td>   14.659</td> <td> 0.000</td> <td>    0.076</td> <td>    0.100</td>\n",
       "</tr>\n",
       "<tr>\n",
       "  <th>Zipcode_Means</th>     <td>    0.3500</td> <td>    0.002</td> <td>  161.102</td> <td> 0.000</td> <td>    0.346</td> <td>    0.354</td>\n",
       "</tr>\n",
       "<tr>\n",
       "  <th>April</th>             <td>    0.0253</td> <td>    0.002</td> <td>   15.844</td> <td> 0.000</td> <td>    0.022</td> <td>    0.028</td>\n",
       "</tr>\n",
       "<tr>\n",
       "  <th>August</th>            <td>    0.0108</td> <td>    0.002</td> <td>    6.505</td> <td> 0.000</td> <td>    0.008</td> <td>    0.014</td>\n",
       "</tr>\n",
       "<tr>\n",
       "  <th>December</th>          <td>    0.0119</td> <td>    0.002</td> <td>    6.691</td> <td> 0.000</td> <td>    0.008</td> <td>    0.015</td>\n",
       "</tr>\n",
       "<tr>\n",
       "  <th>February</th>          <td>    0.0122</td> <td>    0.002</td> <td>    6.520</td> <td> 0.000</td> <td>    0.009</td> <td>    0.016</td>\n",
       "</tr>\n",
       "<tr>\n",
       "  <th>January</th>           <td>    0.0107</td> <td>    0.002</td> <td>    5.230</td> <td> 0.000</td> <td>    0.007</td> <td>    0.015</td>\n",
       "</tr>\n",
       "<tr>\n",
       "  <th>July</th>              <td>    0.0107</td> <td>    0.002</td> <td>    6.751</td> <td> 0.000</td> <td>    0.008</td> <td>    0.014</td>\n",
       "</tr>\n",
       "<tr>\n",
       "  <th>June</th>              <td>    0.0133</td> <td>    0.002</td> <td>    8.344</td> <td> 0.000</td> <td>    0.010</td> <td>    0.016</td>\n",
       "</tr>\n",
       "<tr>\n",
       "  <th>March</th>             <td>    0.0183</td> <td>    0.002</td> <td>   10.913</td> <td> 0.000</td> <td>    0.015</td> <td>    0.022</td>\n",
       "</tr>\n",
       "<tr>\n",
       "  <th>May</th>               <td>    0.0143</td> <td>    0.002</td> <td>    9.122</td> <td> 0.000</td> <td>    0.011</td> <td>    0.017</td>\n",
       "</tr>\n",
       "<tr>\n",
       "  <th>November</th>          <td>    0.0092</td> <td>    0.002</td> <td>    5.019</td> <td> 0.000</td> <td>    0.006</td> <td>    0.013</td>\n",
       "</tr>\n",
       "<tr>\n",
       "  <th>October</th>           <td>    0.0101</td> <td>    0.002</td> <td>    6.055</td> <td> 0.000</td> <td>    0.007</td> <td>    0.013</td>\n",
       "</tr>\n",
       "</table>\n",
       "<table class=\"simpletable\">\n",
       "<tr>\n",
       "  <th>Omnibus:</th>       <td>443.928</td> <th>  Durbin-Watson:     </th> <td>   2.039</td> \n",
       "</tr>\n",
       "<tr>\n",
       "  <th>Prob(Omnibus):</th> <td> 0.000</td>  <th>  Jarque-Bera (JB):  </th> <td>1109.315</td> \n",
       "</tr>\n",
       "<tr>\n",
       "  <th>Skew:</th>          <td> 0.024</td>  <th>  Prob(JB):          </th> <td>1.30e-241</td>\n",
       "</tr>\n",
       "<tr>\n",
       "  <th>Kurtosis:</th>      <td> 4.266</td>  <th>  Cond. No.          </th> <td>    28.6</td> \n",
       "</tr>\n",
       "</table><br/><br/>Warnings:<br/>[1] Standard Errors assume that the covariance matrix of the errors is correctly specified."
      ],
      "text/plain": [
       "<class 'statsmodels.iolib.summary.Summary'>\n",
       "\"\"\"\n",
       "                            OLS Regression Results                            \n",
       "==============================================================================\n",
       "Dep. Variable:                  Price   R-squared:                       0.987\n",
       "Model:                            OLS   Adj. R-squared:                  0.987\n",
       "Method:                 Least Squares   F-statistic:                 5.447e+04\n",
       "Date:                Wed, 13 Mar 2019   Prob (F-statistic):               0.00\n",
       "Time:                        13:42:44   Log-Likelihood:                 27383.\n",
       "No. Observations:               16588   AIC:                        -5.472e+04\n",
       "Df Residuals:                   16565   BIC:                        -5.454e+04\n",
       "Df Model:                          23                                         \n",
       "Covariance Type:            nonrobust                                         \n",
       "=====================================================================================\n",
       "                        coef    std err          t      P>|t|      [0.025      0.975]\n",
       "-------------------------------------------------------------------------------------\n",
       "Bedrooms              0.0174      0.004      4.355      0.000       0.010       0.025\n",
       "Bathrooms            -0.0551      0.006     -9.594      0.000      -0.066      -0.044\n",
       "Waterfront            0.1202      0.005     25.885      0.000       0.111       0.129\n",
       "View                  0.0424      0.001     31.882      0.000       0.040       0.045\n",
       "Grade                 0.1993      0.005     39.789      0.000       0.189       0.209\n",
       "Sqft_Above            0.2772      0.006     44.755      0.000       0.265       0.289\n",
       "Sqft_Basement         0.0987      0.006     16.791      0.000       0.087       0.110\n",
       "Yr_Built              0.0343      0.002     22.341      0.000       0.031       0.037\n",
       "Basement              0.0041      0.002      1.845      0.065      -0.000       0.008\n",
       "Renovated             0.0220      0.002     11.079      0.000       0.018       0.026\n",
       "Living_Difference     0.0882      0.006     14.659      0.000       0.076       0.100\n",
       "Zipcode_Means         0.3500      0.002    161.102      0.000       0.346       0.354\n",
       "April                 0.0253      0.002     15.844      0.000       0.022       0.028\n",
       "August                0.0108      0.002      6.505      0.000       0.008       0.014\n",
       "December              0.0119      0.002      6.691      0.000       0.008       0.015\n",
       "February              0.0122      0.002      6.520      0.000       0.009       0.016\n",
       "January               0.0107      0.002      5.230      0.000       0.007       0.015\n",
       "July                  0.0107      0.002      6.751      0.000       0.008       0.014\n",
       "June                  0.0133      0.002      8.344      0.000       0.010       0.016\n",
       "March                 0.0183      0.002     10.913      0.000       0.015       0.022\n",
       "May                   0.0143      0.002      9.122      0.000       0.011       0.017\n",
       "November              0.0092      0.002      5.019      0.000       0.006       0.013\n",
       "October               0.0101      0.002      6.055      0.000       0.007       0.013\n",
       "==============================================================================\n",
       "Omnibus:                      443.928   Durbin-Watson:                   2.039\n",
       "Prob(Omnibus):                  0.000   Jarque-Bera (JB):             1109.315\n",
       "Skew:                           0.024   Prob(JB):                    1.30e-241\n",
       "Kurtosis:                       4.266   Cond. No.                         28.6\n",
       "==============================================================================\n",
       "\n",
       "Warnings:\n",
       "[1] Standard Errors assume that the covariance matrix of the errors is correctly specified.\n",
       "\"\"\""
      ]
     },
     "execution_count": 58,
     "metadata": {},
     "output_type": "execute_result"
    }
   ],
   "source": [
    "mod = smf.ols(formula=formula, data = predictor_train.join(target_train))\n",
    "res = mod.fit()\n",
    "res.summary()"
   ]
  },
  {
   "cell_type": "markdown",
   "metadata": {},
   "source": [
    "With an r$^2$ value of 0.987 I can say that this model fits the training data well, though the same may not be the case for the test data. There are other problems, too. The fact that predictors are correlated with each other is causing problems that show up as non-sensical coefficient estimates. For example, Bathrooms has a negative (!) coefficient. I'll perform RFE with cross validation in order to obtain a better model, though I imagine that I'll likely end up with the same problems since RFE only looks to optimize $r^2$, RMSE, or other similar indicators. \n"
   ]
  },
  {
   "cell_type": "markdown",
   "metadata": {},
   "source": [
    "#### Opportunity to build forward selector\n",
    "Maybe this is an opportunity to build my own forward selector? I would prefer a selector that chooses features one at a time by looking at the parameter p-value. The first feature to be added is the feature with the highest p-value. It then adds features, assigning a penalty to features in proportion to how much they reduce the p-value of the existing features in the model. The model stops adding features when the cost of adding (the penalty) is higher than the improvement in the model."
   ]
  },
  {
   "cell_type": "code",
   "execution_count": 59,
   "metadata": {},
   "outputs": [],
   "source": [
    "from sklearn.feature_selection import RFECV\n",
    "from sklearn.svm import SVR"
   ]
  },
  {
   "cell_type": "code",
   "execution_count": 60,
   "metadata": {},
   "outputs": [],
   "source": [
    "estimator = SVR(kernel = 'linear')\n",
    "selector = RFECV(estimator = estimator, cv = 3, scoring = 'neg_mean_squared_error')"
   ]
  },
  {
   "cell_type": "code",
   "execution_count": 61,
   "metadata": {},
   "outputs": [],
   "source": [
    "selector = selector.fit(predictor_train, target_train)"
   ]
  },
  {
   "cell_type": "code",
   "execution_count": 62,
   "metadata": {},
   "outputs": [],
   "source": [
    "RFE_predictors = predictor_train.columns[selector.get_support()]"
   ]
  },
  {
   "cell_type": "code",
   "execution_count": 63,
   "metadata": {},
   "outputs": [
    {
     "name": "stdout",
     "output_type": "stream",
     "text": [
      "Price ~ Bathrooms + Waterfront + View + Grade + Sqft_Above + Sqft_Basement + Yr_Built + Basement + Renovated + Living_Difference + Zipcode_Means + April + December + January + June + March + May + November - 1\n"
     ]
    }
   ],
   "source": [
    "formula = 'Price ~ ' + ' + '.join(RFE_predictors) + ' - 1'\n",
    "print(formula)"
   ]
  },
  {
   "cell_type": "code",
   "execution_count": 64,
   "metadata": {},
   "outputs": [
    {
     "data": {
      "text/html": [
       "<table class=\"simpletable\">\n",
       "<caption>OLS Regression Results</caption>\n",
       "<tr>\n",
       "  <th>Dep. Variable:</th>          <td>Price</td>      <th>  R-squared:         </th>  <td>   0.987</td> \n",
       "</tr>\n",
       "<tr>\n",
       "  <th>Model:</th>                   <td>OLS</td>       <th>  Adj. R-squared:    </th>  <td>   0.987</td> \n",
       "</tr>\n",
       "<tr>\n",
       "  <th>Method:</th>             <td>Least Squares</td>  <th>  F-statistic:       </th>  <td>6.917e+04</td>\n",
       "</tr>\n",
       "<tr>\n",
       "  <th>Date:</th>             <td>Wed, 13 Mar 2019</td> <th>  Prob (F-statistic):</th>   <td>  0.00</td>  \n",
       "</tr>\n",
       "<tr>\n",
       "  <th>Time:</th>                 <td>13:43:29</td>     <th>  Log-Likelihood:    </th>  <td>  27331.</td> \n",
       "</tr>\n",
       "<tr>\n",
       "  <th>No. Observations:</th>      <td> 16588</td>      <th>  AIC:               </th> <td>-5.463e+04</td>\n",
       "</tr>\n",
       "<tr>\n",
       "  <th>Df Residuals:</th>          <td> 16570</td>      <th>  BIC:               </th> <td>-5.449e+04</td>\n",
       "</tr>\n",
       "<tr>\n",
       "  <th>Df Model:</th>              <td>    18</td>      <th>                     </th>      <td> </td>    \n",
       "</tr>\n",
       "<tr>\n",
       "  <th>Covariance Type:</th>      <td>nonrobust</td>    <th>                     </th>      <td> </td>    \n",
       "</tr>\n",
       "</table>\n",
       "<table class=\"simpletable\">\n",
       "<tr>\n",
       "          <td></td>             <th>coef</th>     <th>std err</th>      <th>t</th>      <th>P>|t|</th>  <th>[0.025</th>    <th>0.975]</th>  \n",
       "</tr>\n",
       "<tr>\n",
       "  <th>Bathrooms</th>         <td>   -0.0590</td> <td>    0.006</td> <td>  -10.348</td> <td> 0.000</td> <td>   -0.070</td> <td>   -0.048</td>\n",
       "</tr>\n",
       "<tr>\n",
       "  <th>Waterfront</th>        <td>    0.1191</td> <td>    0.005</td> <td>   25.597</td> <td> 0.000</td> <td>    0.110</td> <td>    0.128</td>\n",
       "</tr>\n",
       "<tr>\n",
       "  <th>View</th>              <td>    0.0422</td> <td>    0.001</td> <td>   31.700</td> <td> 0.000</td> <td>    0.040</td> <td>    0.045</td>\n",
       "</tr>\n",
       "<tr>\n",
       "  <th>Grade</th>             <td>    0.1961</td> <td>    0.005</td> <td>   39.553</td> <td> 0.000</td> <td>    0.186</td> <td>    0.206</td>\n",
       "</tr>\n",
       "<tr>\n",
       "  <th>Sqft_Above</th>        <td>    0.2909</td> <td>    0.006</td> <td>   51.111</td> <td> 0.000</td> <td>    0.280</td> <td>    0.302</td>\n",
       "</tr>\n",
       "<tr>\n",
       "  <th>Sqft_Basement</th>     <td>    0.0963</td> <td>    0.006</td> <td>   16.453</td> <td> 0.000</td> <td>    0.085</td> <td>    0.108</td>\n",
       "</tr>\n",
       "<tr>\n",
       "  <th>Yr_Built</th>          <td>    0.0346</td> <td>    0.002</td> <td>   22.728</td> <td> 0.000</td> <td>    0.032</td> <td>    0.038</td>\n",
       "</tr>\n",
       "<tr>\n",
       "  <th>Basement</th>          <td>    0.0060</td> <td>    0.002</td> <td>    2.681</td> <td> 0.007</td> <td>    0.002</td> <td>    0.010</td>\n",
       "</tr>\n",
       "<tr>\n",
       "  <th>Renovated</th>         <td>    0.0213</td> <td>    0.002</td> <td>   10.687</td> <td> 0.000</td> <td>    0.017</td> <td>    0.025</td>\n",
       "</tr>\n",
       "<tr>\n",
       "  <th>Living_Difference</th> <td>    0.1164</td> <td>    0.005</td> <td>   22.003</td> <td> 0.000</td> <td>    0.106</td> <td>    0.127</td>\n",
       "</tr>\n",
       "<tr>\n",
       "  <th>Zipcode_Means</th>     <td>    0.3526</td> <td>    0.002</td> <td>  163.013</td> <td> 0.000</td> <td>    0.348</td> <td>    0.357</td>\n",
       "</tr>\n",
       "<tr>\n",
       "  <th>April</th>             <td>    0.0173</td> <td>    0.001</td> <td>   13.770</td> <td> 0.000</td> <td>    0.015</td> <td>    0.020</td>\n",
       "</tr>\n",
       "<tr>\n",
       "  <th>December</th>          <td>    0.0038</td> <td>    0.001</td> <td>    2.575</td> <td> 0.010</td> <td>    0.001</td> <td>    0.007</td>\n",
       "</tr>\n",
       "<tr>\n",
       "  <th>January</th>           <td>    0.0027</td> <td>    0.002</td> <td>    1.514</td> <td> 0.130</td> <td>   -0.001</td> <td>    0.006</td>\n",
       "</tr>\n",
       "<tr>\n",
       "  <th>June</th>              <td>    0.0053</td> <td>    0.001</td> <td>    4.235</td> <td> 0.000</td> <td>    0.003</td> <td>    0.008</td>\n",
       "</tr>\n",
       "<tr>\n",
       "  <th>March</th>             <td>    0.0104</td> <td>    0.001</td> <td>    7.644</td> <td> 0.000</td> <td>    0.008</td> <td>    0.013</td>\n",
       "</tr>\n",
       "<tr>\n",
       "  <th>May</th>               <td>    0.0062</td> <td>    0.001</td> <td>    5.080</td> <td> 0.000</td> <td>    0.004</td> <td>    0.009</td>\n",
       "</tr>\n",
       "<tr>\n",
       "  <th>November</th>          <td>    0.0009</td> <td>    0.002</td> <td>    0.606</td> <td> 0.545</td> <td>   -0.002</td> <td>    0.004</td>\n",
       "</tr>\n",
       "</table>\n",
       "<table class=\"simpletable\">\n",
       "<tr>\n",
       "  <th>Omnibus:</th>       <td>436.444</td> <th>  Durbin-Watson:     </th> <td>   2.038</td> \n",
       "</tr>\n",
       "<tr>\n",
       "  <th>Prob(Omnibus):</th> <td> 0.000</td>  <th>  Jarque-Bera (JB):  </th> <td>1082.720</td> \n",
       "</tr>\n",
       "<tr>\n",
       "  <th>Skew:</th>          <td> 0.017</td>  <th>  Prob(JB):          </th> <td>7.77e-236</td>\n",
       "</tr>\n",
       "<tr>\n",
       "  <th>Kurtosis:</th>      <td> 4.251</td>  <th>  Cond. No.          </th> <td>    25.7</td> \n",
       "</tr>\n",
       "</table><br/><br/>Warnings:<br/>[1] Standard Errors assume that the covariance matrix of the errors is correctly specified."
      ],
      "text/plain": [
       "<class 'statsmodels.iolib.summary.Summary'>\n",
       "\"\"\"\n",
       "                            OLS Regression Results                            \n",
       "==============================================================================\n",
       "Dep. Variable:                  Price   R-squared:                       0.987\n",
       "Model:                            OLS   Adj. R-squared:                  0.987\n",
       "Method:                 Least Squares   F-statistic:                 6.917e+04\n",
       "Date:                Wed, 13 Mar 2019   Prob (F-statistic):               0.00\n",
       "Time:                        13:43:29   Log-Likelihood:                 27331.\n",
       "No. Observations:               16588   AIC:                        -5.463e+04\n",
       "Df Residuals:                   16570   BIC:                        -5.449e+04\n",
       "Df Model:                          18                                         \n",
       "Covariance Type:            nonrobust                                         \n",
       "=====================================================================================\n",
       "                        coef    std err          t      P>|t|      [0.025      0.975]\n",
       "-------------------------------------------------------------------------------------\n",
       "Bathrooms            -0.0590      0.006    -10.348      0.000      -0.070      -0.048\n",
       "Waterfront            0.1191      0.005     25.597      0.000       0.110       0.128\n",
       "View                  0.0422      0.001     31.700      0.000       0.040       0.045\n",
       "Grade                 0.1961      0.005     39.553      0.000       0.186       0.206\n",
       "Sqft_Above            0.2909      0.006     51.111      0.000       0.280       0.302\n",
       "Sqft_Basement         0.0963      0.006     16.453      0.000       0.085       0.108\n",
       "Yr_Built              0.0346      0.002     22.728      0.000       0.032       0.038\n",
       "Basement              0.0060      0.002      2.681      0.007       0.002       0.010\n",
       "Renovated             0.0213      0.002     10.687      0.000       0.017       0.025\n",
       "Living_Difference     0.1164      0.005     22.003      0.000       0.106       0.127\n",
       "Zipcode_Means         0.3526      0.002    163.013      0.000       0.348       0.357\n",
       "April                 0.0173      0.001     13.770      0.000       0.015       0.020\n",
       "December              0.0038      0.001      2.575      0.010       0.001       0.007\n",
       "January               0.0027      0.002      1.514      0.130      -0.001       0.006\n",
       "June                  0.0053      0.001      4.235      0.000       0.003       0.008\n",
       "March                 0.0104      0.001      7.644      0.000       0.008       0.013\n",
       "May                   0.0062      0.001      5.080      0.000       0.004       0.009\n",
       "November              0.0009      0.002      0.606      0.545      -0.002       0.004\n",
       "==============================================================================\n",
       "Omnibus:                      436.444   Durbin-Watson:                   2.038\n",
       "Prob(Omnibus):                  0.000   Jarque-Bera (JB):             1082.720\n",
       "Skew:                           0.017   Prob(JB):                    7.77e-236\n",
       "Kurtosis:                       4.251   Cond. No.                         25.7\n",
       "==============================================================================\n",
       "\n",
       "Warnings:\n",
       "[1] Standard Errors assume that the covariance matrix of the errors is correctly specified.\n",
       "\"\"\""
      ]
     },
     "execution_count": 64,
     "metadata": {},
     "output_type": "execute_result"
    }
   ],
   "source": [
    "mod = smf.ols(formula=formula, data = predictor_train.join(target_train))\n",
    "res = mod.fit()\n",
    "res.summary()"
   ]
  },
  {
   "cell_type": "markdown",
   "metadata": {},
   "source": [
    "This model is not siginficantly better than the previous with regards to the problems identified.  There are still problems with correlation between predictors, and there are predictors with p-values much greater than the threshold. There are also predictors with very low effects, so I'll remove these as well. It's a shame that SKLearn's RFE can't catch this. I will eliminate one of the offending multicollinear predictors (Bathrooms), drop all of the insignificant predictors, and then rebuild the model.\n",
    "<br>\n",
    "<br>\n",
    "I am choosing to eliminate features that do not add significantly to the final price (b$_i_ < 0.01) since they improve the model at the cost of increased complexity. A model should, ideally, be a description of the true relationships in a system. By adding features, the system becomes difficult to describe, and thus, difficult to understand in a meaningful way. If the model's aim is to improve understanding of a process, then it's imperative to limit its complexity from the beginning."
   ]
  },
  {
   "cell_type": "code",
   "execution_count": 65,
   "metadata": {},
   "outputs": [],
   "source": [
    "RFE_predictors = list(RFE_predictors)\n",
    "to_remove = ['Bathrooms', 'December','January','June','May','November', 'Basement']\n",
    "for feature in to_remove:\n",
    "    RFE_predictors.remove(feature)"
   ]
  },
  {
   "cell_type": "code",
   "execution_count": 66,
   "metadata": {},
   "outputs": [
    {
     "name": "stdout",
     "output_type": "stream",
     "text": [
      "Price ~ Waterfront + View + Grade + Sqft_Above + Sqft_Basement + Yr_Built + Renovated + Living_Difference + Zipcode_Means + April + March - 1\n"
     ]
    }
   ],
   "source": [
    "formula = 'Price ~ ' + ' + '.join(RFE_predictors) + ' - 1'\n",
    "print(formula)"
   ]
  },
  {
   "cell_type": "code",
   "execution_count": 67,
   "metadata": {},
   "outputs": [
    {
     "data": {
      "text/html": [
       "<table class=\"simpletable\">\n",
       "<caption>OLS Regression Results</caption>\n",
       "<tr>\n",
       "  <th>Dep. Variable:</th>          <td>Price</td>      <th>  R-squared:         </th>  <td>   0.987</td> \n",
       "</tr>\n",
       "<tr>\n",
       "  <th>Model:</th>                   <td>OLS</td>       <th>  Adj. R-squared:    </th>  <td>   0.987</td> \n",
       "</tr>\n",
       "<tr>\n",
       "  <th>Method:</th>             <td>Least Squares</td>  <th>  F-statistic:       </th>  <td>1.121e+05</td>\n",
       "</tr>\n",
       "<tr>\n",
       "  <th>Date:</th>             <td>Wed, 13 Mar 2019</td> <th>  Prob (F-statistic):</th>   <td>  0.00</td>  \n",
       "</tr>\n",
       "<tr>\n",
       "  <th>Time:</th>                 <td>13:43:29</td>     <th>  Log-Likelihood:    </th>  <td>  27250.</td> \n",
       "</tr>\n",
       "<tr>\n",
       "  <th>No. Observations:</th>      <td> 16588</td>      <th>  AIC:               </th> <td>-5.448e+04</td>\n",
       "</tr>\n",
       "<tr>\n",
       "  <th>Df Residuals:</th>          <td> 16577</td>      <th>  BIC:               </th> <td>-5.439e+04</td>\n",
       "</tr>\n",
       "<tr>\n",
       "  <th>Df Model:</th>              <td>    11</td>      <th>                     </th>      <td> </td>    \n",
       "</tr>\n",
       "<tr>\n",
       "  <th>Covariance Type:</th>      <td>nonrobust</td>    <th>                     </th>      <td> </td>    \n",
       "</tr>\n",
       "</table>\n",
       "<table class=\"simpletable\">\n",
       "<tr>\n",
       "          <td></td>             <th>coef</th>     <th>std err</th>      <th>t</th>      <th>P>|t|</th>  <th>[0.025</th>    <th>0.975]</th>  \n",
       "</tr>\n",
       "<tr>\n",
       "  <th>Waterfront</th>        <td>    0.1188</td> <td>    0.005</td> <td>   25.431</td> <td> 0.000</td> <td>    0.110</td> <td>    0.128</td>\n",
       "</tr>\n",
       "<tr>\n",
       "  <th>View</th>              <td>    0.0426</td> <td>    0.001</td> <td>   31.929</td> <td> 0.000</td> <td>    0.040</td> <td>    0.045</td>\n",
       "</tr>\n",
       "<tr>\n",
       "  <th>Grade</th>             <td>    0.1868</td> <td>    0.005</td> <td>   38.147</td> <td> 0.000</td> <td>    0.177</td> <td>    0.196</td>\n",
       "</tr>\n",
       "<tr>\n",
       "  <th>Sqft_Above</th>        <td>    0.2633</td> <td>    0.005</td> <td>   51.325</td> <td> 0.000</td> <td>    0.253</td> <td>    0.273</td>\n",
       "</tr>\n",
       "<tr>\n",
       "  <th>Sqft_Basement</th>     <td>    0.0989</td> <td>    0.002</td> <td>   40.874</td> <td> 0.000</td> <td>    0.094</td> <td>    0.104</td>\n",
       "</tr>\n",
       "<tr>\n",
       "  <th>Yr_Built</th>          <td>    0.0324</td> <td>    0.001</td> <td>   22.163</td> <td> 0.000</td> <td>    0.030</td> <td>    0.035</td>\n",
       "</tr>\n",
       "<tr>\n",
       "  <th>Renovated</th>         <td>    0.0203</td> <td>    0.002</td> <td>   10.162</td> <td> 0.000</td> <td>    0.016</td> <td>    0.024</td>\n",
       "</tr>\n",
       "<tr>\n",
       "  <th>Living_Difference</th> <td>    0.1329</td> <td>    0.005</td> <td>   25.993</td> <td> 0.000</td> <td>    0.123</td> <td>    0.143</td>\n",
       "</tr>\n",
       "<tr>\n",
       "  <th>Zipcode_Means</th>     <td>    0.3562</td> <td>    0.002</td> <td>  165.761</td> <td> 0.000</td> <td>    0.352</td> <td>    0.360</td>\n",
       "</tr>\n",
       "<tr>\n",
       "  <th>April</th>             <td>    0.0156</td> <td>    0.001</td> <td>   12.948</td> <td> 0.000</td> <td>    0.013</td> <td>    0.018</td>\n",
       "</tr>\n",
       "<tr>\n",
       "  <th>March</th>             <td>    0.0087</td> <td>    0.001</td> <td>    6.661</td> <td> 0.000</td> <td>    0.006</td> <td>    0.011</td>\n",
       "</tr>\n",
       "</table>\n",
       "<table class=\"simpletable\">\n",
       "<tr>\n",
       "  <th>Omnibus:</th>       <td>432.410</td> <th>  Durbin-Watson:     </th> <td>   2.035</td> \n",
       "</tr>\n",
       "<tr>\n",
       "  <th>Prob(Omnibus):</th> <td> 0.000</td>  <th>  Jarque-Bera (JB):  </th> <td>1056.752</td> \n",
       "</tr>\n",
       "<tr>\n",
       "  <th>Skew:</th>          <td> 0.041</td>  <th>  Prob(JB):          </th> <td>3.38e-230</td>\n",
       "</tr>\n",
       "<tr>\n",
       "  <th>Kurtosis:</th>      <td> 4.234</td>  <th>  Cond. No.          </th> <td>    21.1</td> \n",
       "</tr>\n",
       "</table><br/><br/>Warnings:<br/>[1] Standard Errors assume that the covariance matrix of the errors is correctly specified."
      ],
      "text/plain": [
       "<class 'statsmodels.iolib.summary.Summary'>\n",
       "\"\"\"\n",
       "                            OLS Regression Results                            \n",
       "==============================================================================\n",
       "Dep. Variable:                  Price   R-squared:                       0.987\n",
       "Model:                            OLS   Adj. R-squared:                  0.987\n",
       "Method:                 Least Squares   F-statistic:                 1.121e+05\n",
       "Date:                Wed, 13 Mar 2019   Prob (F-statistic):               0.00\n",
       "Time:                        13:43:29   Log-Likelihood:                 27250.\n",
       "No. Observations:               16588   AIC:                        -5.448e+04\n",
       "Df Residuals:                   16577   BIC:                        -5.439e+04\n",
       "Df Model:                          11                                         \n",
       "Covariance Type:            nonrobust                                         \n",
       "=====================================================================================\n",
       "                        coef    std err          t      P>|t|      [0.025      0.975]\n",
       "-------------------------------------------------------------------------------------\n",
       "Waterfront            0.1188      0.005     25.431      0.000       0.110       0.128\n",
       "View                  0.0426      0.001     31.929      0.000       0.040       0.045\n",
       "Grade                 0.1868      0.005     38.147      0.000       0.177       0.196\n",
       "Sqft_Above            0.2633      0.005     51.325      0.000       0.253       0.273\n",
       "Sqft_Basement         0.0989      0.002     40.874      0.000       0.094       0.104\n",
       "Yr_Built              0.0324      0.001     22.163      0.000       0.030       0.035\n",
       "Renovated             0.0203      0.002     10.162      0.000       0.016       0.024\n",
       "Living_Difference     0.1329      0.005     25.993      0.000       0.123       0.143\n",
       "Zipcode_Means         0.3562      0.002    165.761      0.000       0.352       0.360\n",
       "April                 0.0156      0.001     12.948      0.000       0.013       0.018\n",
       "March                 0.0087      0.001      6.661      0.000       0.006       0.011\n",
       "==============================================================================\n",
       "Omnibus:                      432.410   Durbin-Watson:                   2.035\n",
       "Prob(Omnibus):                  0.000   Jarque-Bera (JB):             1056.752\n",
       "Skew:                           0.041   Prob(JB):                    3.38e-230\n",
       "Kurtosis:                       4.234   Cond. No.                         21.1\n",
       "==============================================================================\n",
       "\n",
       "Warnings:\n",
       "[1] Standard Errors assume that the covariance matrix of the errors is correctly specified.\n",
       "\"\"\""
      ]
     },
     "execution_count": 67,
     "metadata": {},
     "output_type": "execute_result"
    }
   ],
   "source": [
    "mod = smf.ols(formula=formula, data = predictor_train.join(target_train))\n",
    "res = mod.fit()\n",
    "res.summary()"
   ]
  },
  {
   "cell_type": "code",
   "execution_count": 68,
   "metadata": {},
   "outputs": [
    {
     "name": "stdout",
     "output_type": "stream",
     "text": [
      "RMSE of test data:\t0.0464359625307021\n",
      "RMSE of train data:\t0.04682494046468908\n"
     ]
    }
   ],
   "source": [
    "y_hat = res.predict(predictor_test)\n",
    "residuals = target_test - y_hat\n",
    "RMSE_test = np.sqrt((residuals**2).sum()/len(residuals))\n",
    "RMSE_train = np.sqrt(res.mse_resid)\n",
    "print('RMSE of test data:\\t' + str(RMSE_test))\n",
    "print('RMSE of train data:\\t' + str(RMSE_train))"
   ]
  },
  {
   "cell_type": "markdown",
   "metadata": {},
   "source": [
    "The MSE of the train and test dataset are nearly identical, which tells me that the test data is well approximated by a model derived from the training data. I'll look at the residuals below to check for heteroscedasticity and non-random patterns."
   ]
  },
  {
   "cell_type": "code",
   "execution_count": 69,
   "metadata": {},
   "outputs": [
    {
     "data": {
      "application/vnd.jupyter.widget-view+json": {
       "model_id": "3fa0618811be4b7aa9d3da6aba4dd409",
       "version_major": 2,
       "version_minor": 0
      },
      "text/plain": [
       "interactive(children=(Dropdown(description='x', options=('Waterfront', 'View', 'Grade', 'Sqft_Above', 'Sqft_Ba…"
      ]
     },
     "metadata": {},
     "output_type": "display_data"
    }
   ],
   "source": [
    "@interact\n",
    "def residuals_plot(x = RFE_predictors):\n",
    "    fig, ax = plt.subplots(1,1,figsize = (12,8))\n",
    "    sns.scatterplot(x = predictor_test[x], y = residuals, ax = ax)\n",
    "    ax.set_title('Residual plot for ' + x)\n",
    "    ax.set_ylabel('Residual')\n",
    "    corr = np.corrcoef(predictor_test[x],residuals)\n",
    "    corr_text = 'corr: {:1.3f}'.format(corr[1,0])\n",
    "    plt.text(.875, \n",
    "             0.95, \n",
    "             corr_text, \n",
    "             horizontalalignment='left',\n",
    "             verticalalignment='top',\n",
    "             fontsize = 16,\n",
    "             transform=ax.transAxes)\n",
    "    plt.show()"
   ]
  },
  {
   "cell_type": "markdown",
   "metadata": {},
   "source": [
    "The residuals look pretty good. There is some pattern for a few of the predictors, but the correlation value does not exceed 0.254 in magnitude. I'll look at the residual distribution as well. I expect the distribution to be roughly normal."
   ]
  },
  {
   "cell_type": "code",
   "execution_count": 70,
   "metadata": {},
   "outputs": [
    {
     "data": {
      "image/png": "[encoded data removed]",
      "text/plain": [
       "<Figure size 864x576 with 1 Axes>"
      ]
     },
     "metadata": {},
     "output_type": "display_data"
    }
   ],
   "source": [
    "residuals.hist(bins = 20, figsize = (12,8))\n",
    "plt.title('Histogram of Residuals')\n",
    "plt.xlabel('Residual of transformed and scaled price')\n",
    "plt.show()"
   ]
  },
  {
   "cell_type": "markdown",
   "metadata": {},
   "source": [
    "Great, the residuals are in fact normally distributed. I'm curious about how the predictions look as compared to the actual data. I'll make a plot of that for the training set and the test set, and then I'll move on to making a function that predicts the price in dollars."
   ]
  },
  {
   "cell_type": "code",
   "execution_count": 71,
   "metadata": {},
   "outputs": [
    {
     "data": {
      "application/vnd.jupyter.widget-view+json": {
       "model_id": "0d13aef6d8294616843b8f8eaf239a3a",
       "version_major": 2,
       "version_minor": 0
      },
      "text/plain": [
       "interactive(children=(Dropdown(description='Show', options=('Train', 'Test'), value='Train'), Output()), _dom_…"
      ]
     },
     "metadata": {},
     "output_type": "display_data"
    }
   ],
   "source": [
    "@interact\n",
    "def residual_data_plot(Show = ['Train', 'Test']):\n",
    "    df_dict = {'Train':[predictor_train, target_train],'Test':[predictor_test,target_test]}\n",
    "    df_list = df_dict[Show]\n",
    "    join = df_list[0].copy()\n",
    "    join['Price'] = df_list[1]\n",
    "    join.sort_values('Price', inplace = True)\n",
    "    y_hat = res.predict(join.drop(labels = 'Price', axis = 1))\n",
    "    MSE = np.mean(np.square(join.Price-y_hat))\n",
    "    RMSE = np.sqrt(MSE)\n",
    "    \n",
    "    # Plot ordered y and y_hat\n",
    "    fig, ax = plt.subplots(1,1,figsize = (12,8))\n",
    "    plt.plot(np.array(y_hat), 'bo', markersize = 0.5, label = 'Predicted Price')\n",
    "    plt.plot(np.array(join.Price),'r-', label = 'Actual Price')\n",
    "    plt.legend(prop = {'size':12})\n",
    "    plt.xlabel('Houses Ordered by Price', fontdict = {'size':16})\n",
    "    plt.ylabel('Transformed and Scaled Price', fontdict = {'size':16})\n",
    "    title = 'Difference between actual and predicted price in the ' + Show.lower() + ' dataset'\n",
    "    plt.title(title, fontdict = {'size':18})\n",
    "    RMSE_text = 'RMSE: {:1.4f}'.format(RMSE)\n",
    "    plt.text(.025, \n",
    "             0.89, \n",
    "             RMSE_text, \n",
    "             horizontalalignment='left',\n",
    "             verticalalignment='top',\n",
    "             fontsize = 14,\n",
    "             transform=ax.transAxes)\n",
    "    plt.show()\n",
    "    "
   ]
  },
  {
   "cell_type": "code",
   "execution_count": 72,
   "metadata": {},
   "outputs": [],
   "source": [
    "def predict_price(df, alpha = 0.05, kind = 'mean'):\n",
    "    # Transform the data\n",
    "    df_transformed = transform_data(df)\n",
    "    \n",
    "    # Normalize the data\n",
    "    kct = kc_transformed.copy()\n",
    "    scale_factors = {'Bedrooms':{'min':kct.Bedrooms.min(), 'max':kct.Bedrooms.max()},\n",
    "                     'Bathrooms':{'min':kct.Bathrooms.min(), 'max':kct.Bathrooms.max()},\n",
    "                     'Grade':{'min':kct.Grade.min(), 'max':kct.Grade.max()},\n",
    "                     'Sqft_Above':{'min':kct.Sqft_Above.min(), 'max':kct.Sqft_Above.max()}, \n",
    "                     'Sqft_Basement':{'min':kct.Sqft_Basement.min(), 'max':kct.Sqft_Basement.max()},\n",
    "                     'Zipcode_Means':{'min':kct.Zipcode_Means.min(), 'max':kct.Zipcode_Means.max()},\n",
    "                     'Living_Difference': {'min':kct.Living_Difference.min(), 'max':kct.Living_Difference.max()}}\n",
    "    \n",
    "    df_transformed_scaled = df_transformed.copy()\n",
    "    to_scale = df_transformed_scaled.columns\n",
    "    for column in list(to_scale):\n",
    "        data = df_transformed_scaled[column]\n",
    "        df_transformed_scaled[column] = (data - kct[column].min())/(kct[column].max()-kct[column].min())\n",
    "    \n",
    "    # Obtain the price interval\n",
    "    if kind.lower() == 'mean':\n",
    "        columns = ['mean', 'mean_ci_lower', 'mean_ci_upper']\n",
    "    elif kind.lower() == 'obs':\n",
    "        columns = ['mean', 'obs_ci_lower', 'obs_ci_upper']\n",
    "    else:\n",
    "        raise Exception('Kind can only be \"mean\" or \"obs\".')\n",
    "        \n",
    "    predictions = res.get_prediction(df_transformed_scaled).summary_frame(alpha = alpha)\n",
    "    predictions = predictions.loc[:,columns]\n",
    "    predictions.columns = ['Prediction','Lower Price Boundary','Upper Price Boundary']\n",
    "    \n",
    "    # Denormalize the price interval (also hardcoded based on the dataset)\n",
    "    predictions = predictions*(kct.Price.max()-kct.Price.min())+kct.Price.min()\n",
    "    \n",
    "    # Transform the price interval and return\n",
    "    predictions = 10**predictions\n",
    "    predictions['id'] = df.index\n",
    "    predictions.set_index('id')\n",
    "    \n",
    "    return predictions.join(df, on = 'id').set_index('id')"
   ]
  },
  {
   "cell_type": "code",
   "execution_count": 73,
   "metadata": {
    "scrolled": true
   },
   "outputs": [
    {
     "data": {
      "text/plain": [
       "129264.1742323458"
      ]
     },
     "execution_count": 73,
     "metadata": {},
     "output_type": "execute_result"
    }
   ],
   "source": [
    "10**(0.11*(kc_transformed.Price.max()-kc_transformed.Price.min())+kc_transformed.Price.min())"
   ]
  },
  {
   "cell_type": "code",
   "execution_count": 74,
   "metadata": {},
   "outputs": [
    {
     "data": {
      "text/html": [
       "<div>\n",
       "<style scoped>\n",
       "    .dataframe tbody tr th:only-of-type {\n",
       "        vertical-align: middle;\n",
       "    }\n",
       "\n",
       "    .dataframe tbody tr th {\n",
       "        vertical-align: top;\n",
       "    }\n",
       "\n",
       "    .dataframe thead th {\n",
       "        text-align: right;\n",
       "    }\n",
       "</style>\n",
       "<table border=\"1\" class=\"dataframe\">\n",
       "  <thead>\n",
       "    <tr style=\"text-align: right;\">\n",
       "      <th></th>\n",
       "      <th>Prediction</th>\n",
       "      <th>Lower Price Boundary</th>\n",
       "      <th>Upper Price Boundary</th>\n",
       "      <th>Price</th>\n",
       "      <th>Bedrooms</th>\n",
       "      <th>Bathrooms</th>\n",
       "      <th>Waterfront</th>\n",
       "      <th>View</th>\n",
       "      <th>Grade</th>\n",
       "      <th>Sqft_Above</th>\n",
       "      <th>...</th>\n",
       "      <th>August</th>\n",
       "      <th>December</th>\n",
       "      <th>February</th>\n",
       "      <th>January</th>\n",
       "      <th>July</th>\n",
       "      <th>June</th>\n",
       "      <th>March</th>\n",
       "      <th>May</th>\n",
       "      <th>November</th>\n",
       "      <th>October</th>\n",
       "    </tr>\n",
       "    <tr>\n",
       "      <th>id</th>\n",
       "      <th></th>\n",
       "      <th></th>\n",
       "      <th></th>\n",
       "      <th></th>\n",
       "      <th></th>\n",
       "      <th></th>\n",
       "      <th></th>\n",
       "      <th></th>\n",
       "      <th></th>\n",
       "      <th></th>\n",
       "      <th></th>\n",
       "      <th></th>\n",
       "      <th></th>\n",
       "      <th></th>\n",
       "      <th></th>\n",
       "      <th></th>\n",
       "      <th></th>\n",
       "      <th></th>\n",
       "      <th></th>\n",
       "      <th></th>\n",
       "      <th></th>\n",
       "    </tr>\n",
       "  </thead>\n",
       "  <tbody>\n",
       "    <tr>\n",
       "      <th>7129300520</th>\n",
       "      <td>229024.730622</td>\n",
       "      <td>178828.849116</td>\n",
       "      <td>293310.209710</td>\n",
       "      <td>221900.0</td>\n",
       "      <td>3</td>\n",
       "      <td>1.00</td>\n",
       "      <td>0</td>\n",
       "      <td>0</td>\n",
       "      <td>7</td>\n",
       "      <td>1180</td>\n",
       "      <td>...</td>\n",
       "      <td>0</td>\n",
       "      <td>0</td>\n",
       "      <td>0</td>\n",
       "      <td>0</td>\n",
       "      <td>0</td>\n",
       "      <td>0</td>\n",
       "      <td>0</td>\n",
       "      <td>0</td>\n",
       "      <td>0</td>\n",
       "      <td>1</td>\n",
       "    </tr>\n",
       "    <tr>\n",
       "      <th>6414100192</th>\n",
       "      <td>536327.792201</td>\n",
       "      <td>418686.926485</td>\n",
       "      <td>687022.886293</td>\n",
       "      <td>538000.0</td>\n",
       "      <td>3</td>\n",
       "      <td>2.25</td>\n",
       "      <td>0</td>\n",
       "      <td>0</td>\n",
       "      <td>7</td>\n",
       "      <td>2170</td>\n",
       "      <td>...</td>\n",
       "      <td>0</td>\n",
       "      <td>1</td>\n",
       "      <td>0</td>\n",
       "      <td>0</td>\n",
       "      <td>0</td>\n",
       "      <td>0</td>\n",
       "      <td>0</td>\n",
       "      <td>0</td>\n",
       "      <td>0</td>\n",
       "      <td>0</td>\n",
       "    </tr>\n",
       "    <tr>\n",
       "      <th>5631500400</th>\n",
       "      <td>225731.848032</td>\n",
       "      <td>176257.458370</td>\n",
       "      <td>289093.396031</td>\n",
       "      <td>180000.0</td>\n",
       "      <td>2</td>\n",
       "      <td>1.00</td>\n",
       "      <td>0</td>\n",
       "      <td>0</td>\n",
       "      <td>6</td>\n",
       "      <td>770</td>\n",
       "      <td>...</td>\n",
       "      <td>0</td>\n",
       "      <td>0</td>\n",
       "      <td>1</td>\n",
       "      <td>0</td>\n",
       "      <td>0</td>\n",
       "      <td>0</td>\n",
       "      <td>0</td>\n",
       "      <td>0</td>\n",
       "      <td>0</td>\n",
       "      <td>0</td>\n",
       "    </tr>\n",
       "    <tr>\n",
       "      <th>2487200875</th>\n",
       "      <td>429817.166348</td>\n",
       "      <td>335602.490599</td>\n",
       "      <td>550481.005542</td>\n",
       "      <td>604000.0</td>\n",
       "      <td>4</td>\n",
       "      <td>3.00</td>\n",
       "      <td>0</td>\n",
       "      <td>0</td>\n",
       "      <td>7</td>\n",
       "      <td>1050</td>\n",
       "      <td>...</td>\n",
       "      <td>0</td>\n",
       "      <td>1</td>\n",
       "      <td>0</td>\n",
       "      <td>0</td>\n",
       "      <td>0</td>\n",
       "      <td>0</td>\n",
       "      <td>0</td>\n",
       "      <td>0</td>\n",
       "      <td>0</td>\n",
       "      <td>0</td>\n",
       "    </tr>\n",
       "    <tr>\n",
       "      <th>1954400510</th>\n",
       "      <td>542446.224382</td>\n",
       "      <td>423560.288296</td>\n",
       "      <td>694701.355336</td>\n",
       "      <td>510000.0</td>\n",
       "      <td>3</td>\n",
       "      <td>2.00</td>\n",
       "      <td>0</td>\n",
       "      <td>0</td>\n",
       "      <td>8</td>\n",
       "      <td>1680</td>\n",
       "      <td>...</td>\n",
       "      <td>0</td>\n",
       "      <td>0</td>\n",
       "      <td>1</td>\n",
       "      <td>0</td>\n",
       "      <td>0</td>\n",
       "      <td>0</td>\n",
       "      <td>0</td>\n",
       "      <td>0</td>\n",
       "      <td>0</td>\n",
       "      <td>0</td>\n",
       "    </tr>\n",
       "  </tbody>\n",
       "</table>\n",
       "<p>5 rows × 27 columns</p>\n",
       "</div>"
      ],
      "text/plain": [
       "               Prediction  Lower Price Boundary  Upper Price Boundary  \\\n",
       "id                                                                      \n",
       "7129300520  229024.730622         178828.849116         293310.209710   \n",
       "6414100192  536327.792201         418686.926485         687022.886293   \n",
       "5631500400  225731.848032         176257.458370         289093.396031   \n",
       "2487200875  429817.166348         335602.490599         550481.005542   \n",
       "1954400510  542446.224382         423560.288296         694701.355336   \n",
       "\n",
       "               Price  Bedrooms  Bathrooms  Waterfront  View  Grade  \\\n",
       "id                                                                   \n",
       "7129300520  221900.0         3       1.00           0     0      7   \n",
       "6414100192  538000.0         3       2.25           0     0      7   \n",
       "5631500400  180000.0         2       1.00           0     0      6   \n",
       "2487200875  604000.0         4       3.00           0     0      7   \n",
       "1954400510  510000.0         3       2.00           0     0      8   \n",
       "\n",
       "            Sqft_Above   ...     August  December  February  January  July  \\\n",
       "id                       ...                                                 \n",
       "7129300520        1180   ...          0         0         0        0     0   \n",
       "6414100192        2170   ...          0         1         0        0     0   \n",
       "5631500400         770   ...          0         0         1        0     0   \n",
       "2487200875        1050   ...          0         1         0        0     0   \n",
       "1954400510        1680   ...          0         0         1        0     0   \n",
       "\n",
       "            June  March  May  November  October  \n",
       "id                                               \n",
       "7129300520     0      0    0         0        1  \n",
       "6414100192     0      0    0         0        0  \n",
       "5631500400     0      0    0         0        0  \n",
       "2487200875     0      0    0         0        0  \n",
       "1954400510     0      0    0         0        0  \n",
       "\n",
       "[5 rows x 27 columns]"
      ]
     },
     "execution_count": 74,
     "metadata": {},
     "output_type": "execute_result"
    }
   ],
   "source": [
    "pred_df = predict_price(kc,alpha = 0.25, kind = 'obs')\n",
    "pred_df.head()"
   ]
  },
  {
   "cell_type": "code",
   "execution_count": 75,
   "metadata": {},
   "outputs": [
    {
     "data": {
      "text/plain": [
       "111182.9108262079"
      ]
     },
     "execution_count": 75,
     "metadata": {},
     "output_type": "execute_result"
    }
   ],
   "source": [
    "(((pred_df['Upper Price Boundary']-pred_df['Lower Price Boundary'])/2)).median()"
   ]
  },
  {
   "cell_type": "markdown",
   "metadata": {},
   "source": [
    "The function `predict_price` provides a range of prices based on the input parameters. An interval for the mean price of a house with a set of attributes can be obtained by passing `kind = 'mean'`, whereas a predictive interval for a single observation can be obtained by passing `kind = 'obs'`.\n",
    "\n",
    "I can use the results of the prediction in order to plot the the performance in real prices, instead of in transformed and scaled prices."
   ]
  },
  {
   "cell_type": "code",
   "execution_count": 76,
   "metadata": {},
   "outputs": [
    {
     "data": {
      "application/vnd.jupyter.widget-view+json": {
       "model_id": "5e9a28a02ee542b1b7fb48c0b568e2f5",
       "version_major": 2,
       "version_minor": 0
      },
      "text/plain": [
       "interactive(children=(FloatSlider(value=0.55, description='Fraction', max=1.0, min=0.1, step=0.05), Output()),…"
      ]
     },
     "metadata": {},
     "output_type": "display_data"
    }
   ],
   "source": [
    "@interact\n",
    "def residual_data_plot(Fraction = (0.1,1,0.05)):\n",
    "    sample = pred_df.sample(frac = Fraction)\n",
    "    sample.sort_values(by = 'Price', inplace = True)\n",
    "    MSE = np.mean(np.square(sample.Price-sample.Prediction))\n",
    "    RMSE = np.sqrt(MSE)\n",
    "    rRMSE = RMSE / sample.Price.mean()\n",
    "    \n",
    "    # Plot ordered y and y_hat\n",
    "    fig, ax = plt.subplots(1,1,figsize = (12,8))\n",
    "    plt.plot(np.array(sample.Prediction), 'bo', markersize = 0.5, label = 'Predicted Price')\n",
    "    plt.plot(np.array(sample.Price),'r-', label = 'Actual Price')\n",
    "    plt.legend(prop = {'size':12})\n",
    "    plt.xlabel('Houses Ordered by Price', fontdict = {'size':16})\n",
    "    plt.ylabel('Price', fontdict = {'size':16})\n",
    "    title = 'Difference between actual and predicted price in a random sample'\n",
    "    plt.title(title, fontdict = {'size':18})\n",
    "    rRMSE_text = 'rRMSE: {:1.4f}'.format(rRMSE)\n",
    "    plt.text(.025, \n",
    "             0.89, \n",
    "             rRMSE_text, \n",
    "             horizontalalignment='left',\n",
    "             verticalalignment='top',\n",
    "             fontsize = 14,\n",
    "             transform=ax.transAxes)\n",
    "    plt.yscale('log')\n",
    "    plt.xticks(fontsize = 13)\n",
    "    plt.yticks(fontsize = 13)\n",
    "    plt.show()"
   ]
  },
  {
   "cell_type": "markdown",
   "metadata": {},
   "source": [
    "<a id=\"5\"></a>\n",
    "## 5. Interpreting the Results"
   ]
  },
  {
   "cell_type": "markdown",
   "metadata": {},
   "source": [
    "The final model has relatively low RMSE and a tight confidence interval of the average price of a house with a set of features, but its predictive ability for any particular house is poor. This is not surprising because MLR does not take into account the nuances that exist at the individual coefficient level. For example, it is folly to assume that the price per square foot is the same in every zipcode. Models that can take this nuance into account exist. They are called hierarchical models and are based on bayesian approaches to model the parameters of the data.\n",
    "\n",
    "In any case, this model still has significant value. It is clear that location is the most important predictor. The zipcode where a house is located accounts for the majority of the price of the house in some cases. This is also true of houses on the waterfront, whose final price is estimated to be ~\\$129,000 more expensive than houses not on the water. Interestingly, neither the number of bedrooms nor the number of bathrooms appears in the model. This is likely because these values are highly correlated with Grade and Area Above, both of which are next most impactful after the zipcode average."
   ]
  },
  {
   "cell_type": "markdown",
   "metadata": {},
   "source": [
    "<a id=\"6\"></a>\n",
    "## 6. Conclusion"
   ]
  },
  {
   "cell_type": "markdown",
   "metadata": {},
   "source": [
    "The final model has an R$^2$ value of 0.987, which compares incredibly well to the best Kaggle kernels that have R$^2$ values of ~0.77. The obvious concern was that the model had overfit the training data. Validation of the model was performed using the test data by comparing RMSE values and visual representations of the fits. The RMSE of the training data *was higher* than that of the test data, 0.0468 and 0.0464, respectively. This alone is evidence that the model did not overfit the training set. Plotting the predictions versus the actual prices, as shown in the two graphs above, demonstrates that the errors are visually equivalent between the two sets.\n",
    "<br>\n",
    "<br>\n",
    "What accounts for such a high R$^2$ value? The major contributor for this result is performing an analysis of linearity *for each feature* against the target. One of the basic premises of multiple linear regression, namely that each feature is linearly related to the target, is met by establishing these transformations. This optimizes the data for MLR, which then produces a fit that is representative of the real contributions of each feature. Although this is not a requirement of MLR, it's clear that it greatly improves the outcome. This can be easily verified by not transforming any of the features, which will result in a lower score."
   ]
  },
  {
   "cell_type": "markdown",
   "metadata": {},
   "source": [
    "<a id=\"7\"></a>\n",
    "## 7. Future Work"
   ]
  },
  {
   "cell_type": "markdown",
   "metadata": {},
   "source": [
    "Despite the high score of the final model, there is still ample room for improvement in this model. This model makes the assumption that every parameter is fixed and representative of the entire sample. This is an oversimplifying assumption that is easily dispelled. For example, the price per square foot cannot be the same everywhere in King County because some areas are more desirable than others. Said simply, the MLR model yields one parameter that describes the price per square foot for all of King County.<br> \n",
    "It would be better to assume that the price per square foot *does* vary between regions in King County, and that the pool of estimates for this parameter are themselves normally distributed with mean $\\mu$ and standard deviation $\\theta$. A good model should be able to use the limited data available for a given region to establish the most likely parameter that describes the price per square foot, given that it is sampled from a known distribution. This type of model is called a hierarchical model. <br>\n",
    "The next steps are to put together a hierarchical model that takes into account the variability of parameters. This model has to take into consideration correct cause and effect to determine the hierarchy of the parameters, so a more robust investigation on the residential property market should be performed as well."
   ]
  }
 ],
 "metadata": {
  "kernelspec": {
   "display_name": "learn-env",
   "language": "python",
   "name": "learn-env"
  },
  "language_info": {
   "codemirror_mode": {
    "name": "ipython",
    "version": 3
   },
   "file_extension": ".py",
   "mimetype": "text/x-python",
   "name": "python",
   "nbconvert_exporter": "python",
   "pygments_lexer": "ipython3",
   "version": "3.6.6"
  }
 },
 "nbformat": 4,
 "nbformat_minor": 2
}
